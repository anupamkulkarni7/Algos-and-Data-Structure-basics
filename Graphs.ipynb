{
 "cells": [
  {
   "cell_type": "code",
   "execution_count": 4,
   "metadata": {},
   "outputs": [],
   "source": [
    "from data_structures.graphs import *\n",
    "from algos.graphs import *\n",
    "from data_structures.heaps import *\n",
    "from heapq import heapify,heappush,heappop\n",
    "import sys\n",
    "%load_ext autoreload"
   ]
  },
  {
   "cell_type": "code",
   "execution_count": 5,
   "metadata": {},
   "outputs": [],
   "source": [
    "%autoreload\n",
    "g1 = build_graph_savage_bfs()\n",
    "g2 = build_graph_savage_dfs()"
   ]
  },
  {
   "cell_type": "code",
   "execution_count": 9,
   "metadata": {},
   "outputs": [],
   "source": [
    "def DFS(g):\n",
    "    visited = {v:False for v in g.graph.keys()}\n",
    "    dfs_tree = {v:None for v in g.graph.keys()}\n",
    "    top_sort = []\n",
    "    \n",
    "    def DFS_util(u,visited,dfs_tree,top_sort):\n",
    "        visited[u] = True\n",
    "        for v in g.graph[u]:\n",
    "            if visited[v] is False:\n",
    "                dfs_tree[v] = u\n",
    "                DFS_util(v,visited,dfs_tree,top_sort)\n",
    "        top_sort.append(u)\n",
    "    \n",
    "    for u in g.graph.keys():\n",
    "        if visited[u] is False:\n",
    "            dfs_tree[u] = u\n",
    "            DFS_util(u,visited,dfs_tree,top_sort)\n",
    "            \n",
    "    return dfs_tree,top_sort"
   ]
  },
  {
   "cell_type": "code",
   "execution_count": 10,
   "metadata": {},
   "outputs": [],
   "source": [
    "def BFS(g):\n",
    "    visited = {v:False for v in g.graph.keys()}\n",
    "    bfs_tree = {v:None for v in g.graph.keys()}\n",
    "    q=[]\n",
    "    \n",
    "    def BFS_util(visited,bfs_tree,q):\n",
    "        while len(q)>0:\n",
    "            u = q.pop(0)\n",
    "            for v in g.graph[u]:\n",
    "                if visited[v] is False:\n",
    "                    q.append(v)\n",
    "                    visited[v] = True\n",
    "                    bfs_tree[v] = u\n",
    "        \n",
    "    for u in g.graph.keys():\n",
    "        if visited[u] is False:\n",
    "            bfs_tree[u] = u\n",
    "            q.append(u)\n",
    "            visited[u] = True\n",
    "            BFS_util(visited,bfs_tree,q)\n",
    "    \n",
    "    return bfs_tree"
   ]
  },
  {
   "cell_type": "code",
   "execution_count": 12,
   "metadata": {},
   "outputs": [
    {
     "name": "stdout",
     "output_type": "stream",
     "text": [
      "{1: 1, 3: 1, 5: 7, 6: 1, 9: 3, 2: 3, 4: 2, 7: 2, 8: 8}\n",
      "[4, 5, 7, 2, 9, 3, 6, 1, 8]\n"
     ]
    }
   ],
   "source": [
    "dfs_tree,top_sort = DFS(g2)\n",
    "print(dfs_tree)\n",
    "print(top_sort)"
   ]
  },
  {
   "cell_type": "code",
   "execution_count": 13,
   "metadata": {},
   "outputs": [
    {
     "name": "stdout",
     "output_type": "stream",
     "text": [
      "{'r': 'r', 's': 'r', 'v': 'r', 'w': 's', 't': 'w', 'u': 't', 'x': 'w', 'y': 'x'}\n"
     ]
    }
   ],
   "source": [
    "bfs_tree=BFS(g1)\n",
    "print(bfs_tree)"
   ]
  },
  {
   "cell_type": "code",
   "execution_count": 18,
   "metadata": {},
   "outputs": [],
   "source": [
    "def invert(g):\n",
    "    invg = Graph()\n",
    "    for u in g.graph.keys():\n",
    "        for v in g.graph[u]:\n",
    "            invg.graph[v].append(u)\n",
    "    return invg"
   ]
  },
  {
   "cell_type": "code",
   "execution_count": 19,
   "metadata": {},
   "outputs": [
    {
     "name": "stdout",
     "output_type": "stream",
     "text": [
      "defaultdict(<class 'list'>, {'s': ['r', 'w'], 'v': ['r'], 'r': ['s', 'v'], 'w': ['s', 't', 'x'], 't': ['w', 'u', 'x'], 'x': ['w', 't', 'y'], 'u': ['t', 'y'], 'y': ['u', 'x']})\n"
     ]
    }
   ],
   "source": [
    "g1i = invert(g1)\n",
    "print(g1i.graph)"
   ]
  },
  {
   "cell_type": "code",
   "execution_count": null,
   "metadata": {},
   "outputs": [],
   "source": []
  },
  {
   "cell_type": "markdown",
   "metadata": {},
   "source": [
    "### Minimum Spanning Tree"
   ]
  },
  {
   "cell_type": "code",
   "execution_count": 20,
   "metadata": {},
   "outputs": [],
   "source": [
    "def mst_graph():\n",
    "    g = Graph()\n",
    "    edges = [\n",
    "        ('a','u'),\n",
    "        ('a','v'),\n",
    "        ('a','b'),\n",
    "        ('b','v'),\n",
    "        ('b','w'),\n",
    "        ('b','c'),\n",
    "        ('c','w'),\n",
    "        ('c','x'),\n",
    "        ('c','d'),\n",
    "        ('d','x'),\n",
    "        ('u','v'),\n",
    "        ('v','w'),\n",
    "        ('w','x'),\n",
    "    ]\n",
    "    wts=[1,1,2,6,3,5,6,4,5,3,1,2,4]\n",
    "    g.create_from_edgelist(edges,wts)\n",
    "    \n",
    "    return g"
   ]
  },
  {
   "cell_type": "code",
   "execution_count": 21,
   "metadata": {},
   "outputs": [],
   "source": [
    "g = mst_graph()"
   ]
  },
  {
   "cell_type": "code",
   "execution_count": 22,
   "metadata": {},
   "outputs": [
    {
     "data": {
      "text/plain": [
       "defaultdict(list,\n",
       "            {'a': ['u', 'v', 'b'],\n",
       "             'u': ['a', 'v'],\n",
       "             'v': ['a', 'b', 'u', 'w'],\n",
       "             'b': ['a', 'v', 'w', 'c'],\n",
       "             'w': ['b', 'c', 'v', 'x'],\n",
       "             'c': ['b', 'w', 'x', 'd'],\n",
       "             'x': ['c', 'd', 'w'],\n",
       "             'd': ['c', 'x']})"
      ]
     },
     "execution_count": 22,
     "metadata": {},
     "output_type": "execute_result"
    }
   ],
   "source": [
    "g.graph"
   ]
  },
  {
   "cell_type": "code",
   "execution_count": 28,
   "metadata": {},
   "outputs": [],
   "source": [
    "def kruskal_mst(g):\n",
    "    es = g.edgelist()\n",
    "    nv = len(g.graph.keys())\n",
    "    \n",
    "    sorted_es = sorted(es,key=lambda x:g.weights[x])\n",
    "    ds = {v:v for v in g.graph.keys()}\n",
    "    \n",
    "    def find_set(u):\n",
    "        if u == ds[u]:\n",
    "            return u\n",
    "        else:\n",
    "            ds[u] = find_set(ds[u])\n",
    "            return ds[u]\n",
    "    \n",
    "    def union(us, vs):\n",
    "        ds[vs] = us\n",
    "    \n",
    "    te = []\n",
    "    we = []\n",
    "    for e in sorted_es:\n",
    "        u,v = e\n",
    "        us = find_set(u)\n",
    "        vs = find_set(v)\n",
    "        if us is not vs:\n",
    "            te.append(e)\n",
    "            we.append(g.weights[e])\n",
    "            union(us,vs)\n",
    "        if len(te) == nv-1:\n",
    "            break\n",
    "    \n",
    "    tree = Graph()\n",
    "    tree.create_from_edgelist(te, we)\n",
    "    return tree"
   ]
  },
  {
   "cell_type": "code",
   "execution_count": 29,
   "metadata": {},
   "outputs": [],
   "source": [
    "tree = kruskal_mst(g)"
   ]
  },
  {
   "cell_type": "code",
   "execution_count": 30,
   "metadata": {},
   "outputs": [
    {
     "data": {
      "text/plain": [
       "defaultdict(list,\n",
       "            {'a': ['u', 'v', 'b'],\n",
       "             'u': ['a'],\n",
       "             'v': ['a', 'w'],\n",
       "             'b': ['a'],\n",
       "             'w': ['v', 'x'],\n",
       "             'd': ['x'],\n",
       "             'x': ['d', 'w', 'c'],\n",
       "             'c': ['x']})"
      ]
     },
     "execution_count": 30,
     "metadata": {},
     "output_type": "execute_result"
    }
   ],
   "source": [
    "tree.graph"
   ]
  },
  {
   "cell_type": "code",
   "execution_count": 9,
   "metadata": {},
   "outputs": [],
   "source": [
    "def prims_mst(g):\n",
    "    hp = MinHeap()\n",
    "    par = {}\n",
    "    inheap = {}\n",
    "    for v in g.graph.keys():\n",
    "        par[v] = v\n",
    "        hp.insert([v,sys.maxsize])\n",
    "        inheap[v] = True\n",
    "        \n",
    "    r = list(g.graph.keys())[3]\n",
    "    hp.decrease_key(r, 0)\n",
    "    #par[r] = r\n",
    "    \n",
    "    te, wts = [],[]\n",
    "    while not hp.is_empty():\n",
    "        u,w = hp.extract_min()\n",
    "        inheap[u] = False\n",
    "        te.append((par[u], u))\n",
    "        wts.append(w)\n",
    "        \n",
    "        for v in g.graph[u]:\n",
    "            if inheap[v] and g.weights[(u,v)] < hp.get_value(v):\n",
    "                par[v] = u\n",
    "                hp.decrease_key(v,g.weights[(u,v)])\n",
    "                \n",
    "    tree = Graph()\n",
    "    tree.create_from_edgelist(te[1:], wts[1:])\n",
    "    return tree\n",
    "        "
   ]
  },
  {
   "cell_type": "code",
   "execution_count": 10,
   "metadata": {},
   "outputs": [],
   "source": [
    "%autoreload\n",
    "tree = prims_mst(g)"
   ]
  },
  {
   "cell_type": "code",
   "execution_count": 11,
   "metadata": {},
   "outputs": [
    {
     "data": {
      "text/plain": [
       "defaultdict(list,\n",
       "            {'b': ['a'],\n",
       "             'a': ['b', 'u', 'v'],\n",
       "             'u': ['a'],\n",
       "             'v': ['a', 'w'],\n",
       "             'w': ['v', 'x'],\n",
       "             'x': ['w', 'd', 'c'],\n",
       "             'd': ['x'],\n",
       "             'c': ['x']})"
      ]
     },
     "execution_count": 11,
     "metadata": {},
     "output_type": "execute_result"
    }
   ],
   "source": [
    "tree.graph"
   ]
  },
  {
   "cell_type": "markdown",
   "metadata": {},
   "source": [
    "### Shortest Paths"
   ]
  },
  {
   "cell_type": "code",
   "execution_count": 36,
   "metadata": {},
   "outputs": [],
   "source": [
    "def dijkstra_sssp(g,src):\n",
    "    \"\"\"\n",
    "    Determine shortest paths from a given single source 'src', for a g that may be dir/undir \n",
    "    but always have positive weights.\n",
    "    \"\"\"\n",
    "    d = {v: sys.maxsize for v in g.graph.keys()}\n",
    "    par = {v:None for v in g.graph.keys()}\n",
    "    S = set() #set of nodes whose shortest paths have been found\n",
    "    \n",
    "    hp = MinHeap()\n",
    "    for v in g.graph.keys():\n",
    "        hp.insert([v,d[v]])\n",
    "    \n",
    "    par[src] = src\n",
    "    d[src] = 0\n",
    "    hp.decrease_key(src,d[src])\n",
    "    \n",
    "    te, wts = [], []\n",
    "    while not hp.is_empty():\n",
    "        u, du = hp.extract_min()\n",
    "        S.add(u)\n",
    "        te.append((par[u], u))\n",
    "        wts.append(du)\n",
    "        \n",
    "        for v in g.graph[u]:\n",
    "            if v not in S:\n",
    "                if d[u] + g.weights[(u,v)] < d[v]:\n",
    "                    d[v] = d[u] + g.weights[(u,v)] \n",
    "                    par[v] = u\n",
    "                    hp.decrease_key(v, d[v])\n",
    "    \n",
    "    def get_path1(u, p):\n",
    "        if u == src:\n",
    "            p.append(src)\n",
    "            return p[::-1]\n",
    "        else:\n",
    "            p.append(u)\n",
    "            return get_path(par[u],p)\n",
    "    \n",
    "    def get_path(u,src,par):\n",
    "        if u == src:\n",
    "            return [u]\n",
    "        else:\n",
    "            return get_path(par[u],src,par) + [u]\n",
    "    \n",
    "    paths = {}\n",
    "    for v in list(S):\n",
    "        paths[(src,v)] = get_path(v,src,par)\n",
    "        \n",
    "    return paths\n"
   ]
  },
  {
   "cell_type": "code",
   "execution_count": 37,
   "metadata": {},
   "outputs": [],
   "source": [
    "paths = dijkstra_sssp(g, 'a')"
   ]
  },
  {
   "cell_type": "code",
   "execution_count": 38,
   "metadata": {},
   "outputs": [
    {
     "data": {
      "text/plain": [
       "{('a', 'u'): ['a', 'u'],\n",
       " ('a', 'x'): ['a', 'v', 'w', 'x'],\n",
       " ('a', 'd'): ['a', 'v', 'w', 'x', 'd'],\n",
       " ('a', 'c'): ['a', 'b', 'c'],\n",
       " ('a', 'v'): ['a', 'v'],\n",
       " ('a', 'b'): ['a', 'b'],\n",
       " ('a', 'w'): ['a', 'v', 'w'],\n",
       " ('a', 'a'): ['a']}"
      ]
     },
     "execution_count": 38,
     "metadata": {},
     "output_type": "execute_result"
    }
   ],
   "source": [
    "paths"
   ]
  },
  {
   "cell_type": "code",
   "execution_count": 27,
   "metadata": {},
   "outputs": [],
   "source": [
    "def bellman_ford_sssp(g, src):\n",
    "    \"\"\"\n",
    "    Bellman-Ford Single Source Shortest Path Algorithm, which works for graphs with negative edges as well. \n",
    "    In case of negative wt cycles, no solution exists for the SP problem; this algorithm will detect if\n",
    "    such cycles exist. \n",
    "    \"\"\"\n",
    "    par = {v:None for v in g.graph.keys()}\n",
    "    d = {v:sys.maxsize for v in g.graph.keys()}\n",
    "    \n",
    "    par[src], d[src] = src, 0\n",
    "    nv = len(g.graph.keys())\n",
    "    \n",
    "    def relax(u,v):\n",
    "        if d[v] > d[u] + g.weights[(u,v)]:\n",
    "                d[v] = d[u] + g.weights[(u,v)]\n",
    "                par[v] = u\n",
    "    \n",
    "    def is_neg_cycle(es):\n",
    "        for e in es:\n",
    "            u, v = e\n",
    "            if d[v] > d[u] + g.weights[(u,v)]:\n",
    "                return True\n",
    "        return False\n",
    "    \n",
    "    def get_path(u, p):\n",
    "        if u == src:\n",
    "            p.append(u)\n",
    "            return p[::-1]\n",
    "        else:\n",
    "            p.append(u)\n",
    "            return get_path(par[u],p)\n",
    "        \n",
    "    es = g.weights.keys()\n",
    "    for i in range(1,nv):\n",
    "        for e in es:\n",
    "            u, v = e\n",
    "            relax(u,v)\n",
    "        \n",
    "    paths = {}\n",
    "    negcycle = is_neg_cycle(es)\n",
    "    \n",
    "    if not negcycle:\n",
    "        for v in g.graph.keys():\n",
    "            if d[v] < sys.maxsize:\n",
    "                path = get_path(v, [])\n",
    "                paths[v] = (path,d[v])\n",
    "    \n",
    "    return negcycle, paths"
   ]
  },
  {
   "cell_type": "code",
   "execution_count": 28,
   "metadata": {},
   "outputs": [],
   "source": [
    "invalid, paths = bellman_ford_sssp(g, 'a')"
   ]
  },
  {
   "cell_type": "code",
   "execution_count": 31,
   "metadata": {},
   "outputs": [
    {
     "data": {
      "text/plain": [
       "{'a': (['a'], 0),\n",
       " 'u': (['a', 'u'], 1),\n",
       " 'v': (['a', 'v'], 1),\n",
       " 'b': (['a', 'b'], 2),\n",
       " 'w': (['a', 'v', 'w'], 3),\n",
       " 'c': (['a', 'b', 'c'], 7),\n",
       " 'x': (['a', 'v', 'w', 'x'], 7),\n",
       " 'd': (['a', 'v', 'w', 'x', 'd'], 10)}"
      ]
     },
     "execution_count": 31,
     "metadata": {},
     "output_type": "execute_result"
    }
   ],
   "source": [
    "paths"
   ]
  },
  {
   "cell_type": "code",
   "execution_count": 18,
   "metadata": {},
   "outputs": [
    {
     "data": {
      "text/plain": [
       "defaultdict(list,\n",
       "            {'a': ['u', 'v', 'b'],\n",
       "             'u': ['a', 'v'],\n",
       "             'v': ['a', 'b', 'u', 'w'],\n",
       "             'b': ['a', 'v', 'w', 'c'],\n",
       "             'w': ['b', 'c', 'v', 'x'],\n",
       "             'c': ['b', 'w', 'x', 'd'],\n",
       "             'x': ['c', 'd', 'w'],\n",
       "             'd': ['c', 'x']})"
      ]
     },
     "execution_count": 18,
     "metadata": {},
     "output_type": "execute_result"
    }
   ],
   "source": []
  },
  {
   "cell_type": "code",
   "execution_count": null,
   "metadata": {},
   "outputs": [],
   "source": []
  }
 ],
 "metadata": {
  "kernelspec": {
   "display_name": "Python 3",
   "language": "python",
   "name": "python3"
  },
  "language_info": {
   "codemirror_mode": {
    "name": "ipython",
    "version": 3
   },
   "file_extension": ".py",
   "mimetype": "text/x-python",
   "name": "python",
   "nbconvert_exporter": "python",
   "pygments_lexer": "ipython3",
   "version": "3.7.5"
  }
 },
 "nbformat": 4,
 "nbformat_minor": 2
}
