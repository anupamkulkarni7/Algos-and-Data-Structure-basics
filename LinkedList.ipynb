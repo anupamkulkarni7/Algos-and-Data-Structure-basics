{
 "cells": [
  {
   "cell_type": "code",
   "execution_count": 1,
   "metadata": {},
   "outputs": [],
   "source": [
    "from algos.linked_list import *\n",
    "from data_structures.linked_list import *\n",
    "%load_ext autoreload"
   ]
  },
  {
   "cell_type": "code",
   "execution_count": 2,
   "metadata": {},
   "outputs": [
    {
     "name": "stdout",
     "output_type": "stream",
     "text": [
      "[1, 2, 3, 4, 5, 6]\n",
      "[9, 8, 7]\n"
     ]
    }
   ],
   "source": [
    "n1, n2, n3, n4, n5, n6 = SLLNode(1),SLLNode(2),SLLNode(3),SLLNode(4),SLLNode(5),SLLNode(6)\n",
    "n1.next, n2.next, n3.next, n4.next, n5.next = n2,n3,n4,n5,n6\n",
    "\n",
    "m1,m2,m3 = SLLNode(9), SLLNode(8), SLLNode(7)\n",
    "m1.next, m2.next, m3.next = m2,m3,None\n",
    "\n",
    "sll1, sll2 = SLL(), SLL()\n",
    "sll1.head, sll2.head = n1, m1\n",
    "\n",
    "sll1.print()\n",
    "sll2.print()\n"
   ]
  },
  {
   "cell_type": "code",
   "execution_count": 3,
   "metadata": {},
   "outputs": [],
   "source": [
    "def newr(head):\n",
    "    def util(prev,node):\n",
    "        if node.next is None:\n",
    "            node.next = prev\n",
    "            return node\n",
    "        newhead = util(node,node.next)\n",
    "        node.next = prev\n",
    "        return newhead\n",
    "    \n",
    "    return util(None,head)\n",
    "\n",
    "    \n",
    "def origr(head):\n",
    "    def util(node):\n",
    "        if node.next is None:\n",
    "            return node\n",
    "        newhead = util(node.next)\n",
    "        node.next.next = node\n",
    "        node.next = None\n",
    "        return newhead\n",
    "    return util(head)"
   ]
  },
  {
   "cell_type": "code",
   "execution_count": 4,
   "metadata": {},
   "outputs": [
    {
     "name": "stdout",
     "output_type": "stream",
     "text": [
      "[6, 5, 4, 3, 2, 1]\n"
     ]
    }
   ],
   "source": [
    "sll1.head = newr(sll1.head)\n",
    "sll1.print()"
   ]
  },
  {
   "cell_type": "code",
   "execution_count": 6,
   "metadata": {},
   "outputs": [],
   "source": [
    "dn1, dn2, dn3, dn4, dn5, dn6 = DLLNode(1),DLLNode(2),DLLNode(3),DLLNode(4),DLLNode(5),DLLNode(6)\n",
    "dn1.next, dn2.next, dn3.next, dn4.next, dn5.next = dn2,dn3,dn4,dn5,dn6\n",
    "dn2.prev,dn3.prev,dn4.prev,dn5.prev,dn6.prev = dn1, dn2, dn3, dn4, dn5 "
   ]
  },
  {
   "cell_type": "code",
   "execution_count": 7,
   "metadata": {},
   "outputs": [],
   "source": [
    "def DLLprint(head):\n",
    "    print(\"Forward\")\n",
    "    curr = head\n",
    "    while curr.next:\n",
    "        print(curr.val)\n",
    "        curr = curr.next\n",
    "    print(curr.val)\n",
    "    \n",
    "    print(\"Backward\")\n",
    "    while curr:\n",
    "        print(curr.val)\n",
    "        curr = curr.prev"
   ]
  },
  {
   "cell_type": "code",
   "execution_count": 8,
   "metadata": {},
   "outputs": [],
   "source": [
    "def revDLL(head):\n",
    "    def util(prev,node):\n",
    "        if node.next is None:\n",
    "            node.prev = node.next\n",
    "            node.next = prev\n",
    "            return node\n",
    "        newhead = util(node,node.next)\n",
    "        node.prev = node.next\n",
    "        node.next = prev\n",
    "        return newhead\n",
    "    return util(None,head)"
   ]
  },
  {
   "cell_type": "code",
   "execution_count": 9,
   "metadata": {},
   "outputs": [
    {
     "name": "stdout",
     "output_type": "stream",
     "text": [
      "Forward\n",
      "6\n",
      "5\n",
      "4\n",
      "3\n",
      "2\n",
      "1\n",
      "Backward\n",
      "1\n",
      "2\n",
      "3\n",
      "4\n",
      "5\n",
      "6\n"
     ]
    }
   ],
   "source": [
    "dnr = revDLL(dn1)\n",
    "DLLprint(dnr)"
   ]
  },
  {
   "cell_type": "code",
   "execution_count": 10,
   "metadata": {},
   "outputs": [],
   "source": [
    "def insert(head,val,pos):\n",
    "    newnode = DLLNode(val)\n",
    "    if pos is 1:\n",
    "        newnode.next = head\n",
    "        head.prev = newnode\n",
    "        return newnode\n",
    "    ctr = 1\n",
    "    curr = head\n",
    "    while curr is not None and ctr<pos-1:\n",
    "        curr = curr.next\n",
    "        ctr+=1\n",
    "    \n",
    "    if curr is None:\n",
    "        print(\"Error\")\n",
    "        return head\n",
    "    \n",
    "    newnode.next = curr.next\n",
    "    newnode.prev = curr\n",
    "    curr.next = newnode\n",
    "    if newnode.next:\n",
    "        newnode.next.prev = newnode\n",
    "    \n",
    "    return head"
   ]
  },
  {
   "cell_type": "code",
   "execution_count": 11,
   "metadata": {},
   "outputs": [
    {
     "name": "stdout",
     "output_type": "stream",
     "text": [
      "Forward\n",
      "1\n",
      "2\n",
      "3\n",
      "4\n",
      "5\n",
      "6\n",
      "Backward\n",
      "6\n",
      "5\n",
      "4\n",
      "3\n",
      "2\n",
      "1\n"
     ]
    }
   ],
   "source": [
    "dn1 = revDLL(dnr)\n",
    "DLLprint(dn1)"
   ]
  },
  {
   "cell_type": "code",
   "execution_count": 12,
   "metadata": {},
   "outputs": [
    {
     "name": "stdout",
     "output_type": "stream",
     "text": [
      "Forward\n",
      "1\n",
      "2\n",
      "99\n",
      "3\n",
      "4\n",
      "5\n",
      "6\n",
      "Backward\n",
      "6\n",
      "5\n",
      "4\n",
      "3\n",
      "99\n",
      "2\n",
      "1\n"
     ]
    }
   ],
   "source": [
    "dn1 = insert(dn1,99,3)\n",
    "DLLprint(dn1)"
   ]
  },
  {
   "cell_type": "code",
   "execution_count": 13,
   "metadata": {},
   "outputs": [],
   "source": [
    "def delete(head,pos):\n",
    "    curr = head\n",
    "    if pos is 1:\n",
    "        curr = curr.next\n",
    "        curr.prev = None\n",
    "        del head\n",
    "        return curr\n",
    "    \n",
    "    ctr = 1\n",
    "    while curr and ctr<pos:\n",
    "        curr = curr.next\n",
    "        ctr +=1\n",
    "    if curr is None:\n",
    "        print(\"Error\")\n",
    "        return head\n",
    "    temp = curr.prev\n",
    "    curr.prev.next = curr.next\n",
    "    curr.next.prev = temp\n",
    "    \n",
    "    del curr\n",
    "    return head"
   ]
  },
  {
   "cell_type": "code",
   "execution_count": 14,
   "metadata": {},
   "outputs": [
    {
     "name": "stdout",
     "output_type": "stream",
     "text": [
      "Forward\n",
      "1\n",
      "2\n",
      "3\n",
      "4\n",
      "5\n",
      "6\n",
      "Backward\n",
      "6\n",
      "5\n",
      "4\n",
      "3\n",
      "2\n",
      "1\n"
     ]
    }
   ],
   "source": [
    "delete(dn1,3)\n",
    "DLLprint(dn1)"
   ]
  },
  {
   "cell_type": "code",
   "execution_count": null,
   "metadata": {},
   "outputs": [],
   "source": [
    "def quicksort(head):\n",
    "    "
   ]
  }
 ],
 "metadata": {
  "kernelspec": {
   "display_name": "Python 3",
   "language": "python",
   "name": "python3"
  },
  "language_info": {
   "codemirror_mode": {
    "name": "ipython",
    "version": 3
   },
   "file_extension": ".py",
   "mimetype": "text/x-python",
   "name": "python",
   "nbconvert_exporter": "python",
   "pygments_lexer": "ipython3",
   "version": "3.7.5"
  }
 },
 "nbformat": 4,
 "nbformat_minor": 2
}
