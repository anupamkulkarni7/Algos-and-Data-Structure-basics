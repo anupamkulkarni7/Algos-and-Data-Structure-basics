{
 "cells": [
  {
   "cell_type": "code",
   "execution_count": null,
   "metadata": {},
   "outputs": [],
   "source": [
    "from algos.search_sort import *\n",
    "\n",
    "%load_ext autoreload"
   ]
  },
  {
   "cell_type": "code",
   "execution_count": null,
   "metadata": {},
   "outputs": [],
   "source": [
    "%autoreload\n",
    "a = [[15,20,70,85],[20,35,80,95],[30,55,95,105],[40,80,100,120]]\n",
    "i,j = search_2d(a, 20)\n",
    "print(i,j)\n",
    "if i is not -1 and j is not -1:\n",
    "    print(a[i][j])"
   ]
  },
  {
   "cell_type": "code",
   "execution_count": null,
   "metadata": {},
   "outputs": [],
   "source": [
    "%autoreload\n",
    "b = [2,6,9,12]\n",
    "binary_search_mod1(b,0,len(b)-1,12)"
   ]
  },
  {
   "cell_type": "code",
   "execution_count": 1,
   "metadata": {},
   "outputs": [],
   "source": [
    "from data_structures.heaps import *\n",
    "%load_ext autoreload"
   ]
  },
  {
   "cell_type": "code",
   "execution_count": 2,
   "metadata": {},
   "outputs": [],
   "source": [
    "hp = MinHeap()"
   ]
  },
  {
   "cell_type": "code",
   "execution_count": null,
   "metadata": {},
   "outputs": [],
   "source": [
    "k = ['f','g','q','a','c','h','z']\n",
    "v = [8, -12, 2, 6, 34, 0, 3]\n",
    "for k1, v1 in zip(k,v):\n",
    "    hp.insert([k1,v1])\n",
    "    "
   ]
  },
  {
   "cell_type": "code",
   "execution_count": null,
   "metadata": {},
   "outputs": [],
   "source": [
    "%autoreload\n",
    "hp.get_value('a')"
   ]
  },
  {
   "cell_type": "code",
   "execution_count": 5,
   "metadata": {},
   "outputs": [],
   "source": [
    "def first_one(arr, li, ri):\n",
    "    if li>ri:\n",
    "        return -1\n",
    "    \n",
    "    mid = (li+ri)//2\n",
    "    if arr[mid] is 1:\n",
    "        if mid is not 0:\n",
    "            if arr[mid-1] is 0:\n",
    "                return mid\n",
    "            else:\n",
    "                return first_one(arr,li,mid-1)\n",
    "        else:\n",
    "            return 0\n",
    "    else:\n",
    "        if mid is not len(arr)-1:\n",
    "            if arr[mid+1] is 1:\n",
    "                return mid+1\n",
    "            else:\n",
    "                return first_one(arr,mid+1,ri)\n",
    "        else:\n",
    "            return mid+1       "
   ]
  },
  {
   "cell_type": "code",
   "execution_count": 9,
   "metadata": {},
   "outputs": [
    {
     "data": {
      "text/plain": [
       "4"
      ]
     },
     "execution_count": 9,
     "metadata": {},
     "output_type": "execute_result"
    }
   ],
   "source": [
    "b = [0,0,0,0]\n",
    "first_one(b, 0, len(b)-1)"
   ]
  },
  {
   "cell_type": "code",
   "execution_count": 1,
   "metadata": {},
   "outputs": [],
   "source": [
    "def rotate(mat):\n",
    "    if len(mat) <=1:\n",
    "        return \n",
    "    \n",
    "    def transpose(mat):\n",
    "        n = len(mat)\n",
    "        for i in range(0,n-1):\n",
    "            for j in range(i+1,n):\n",
    "                mat[i][j], mat[j][i] = mat[j][i], mat[i][j]\n",
    "    \n",
    "    def reflectcol(mat):\n",
    "        n = len(mat)\n",
    "        for j in range(n//2):\n",
    "            for i in range(n):\n",
    "                mat[i][j],mat[i][n-1-j] = mat[i][n-1-j], mat[i][j]\n",
    "    \n",
    "    transpose(mat)\n",
    "    reflectcol(mat)"
   ]
  },
  {
   "cell_type": "code",
   "execution_count": 11,
   "metadata": {},
   "outputs": [],
   "source": [
    "a = [[15,20,70,85],[20,35,80,95],[30,55,95,105],[40,80,100,120],[3,2,1,4]]"
   ]
  },
  {
   "cell_type": "code",
   "execution_count": 12,
   "metadata": {},
   "outputs": [
    {
     "data": {
      "text/plain": [
       "[[15, 20, 70, 85],\n",
       " [20, 35, 80, 95],\n",
       " [30, 55, 95, 105],\n",
       " [40, 80, 100, 120],\n",
       " [3, 2, 1, 4]]"
      ]
     },
     "execution_count": 12,
     "metadata": {},
     "output_type": "execute_result"
    }
   ],
   "source": [
    "a"
   ]
  },
  {
   "cell_type": "code",
   "execution_count": 14,
   "metadata": {},
   "outputs": [
    {
     "name": "stdout",
     "output_type": "stream",
     "text": [
      "[[0, 0, 0, 0], [0, 0, 0, 0], [0, 0, 0, 0], [0, 0, 0, 0], [0, 0, 0, 0]]\n"
     ]
    }
   ],
   "source": [
    "m = [[0 for j in a[0]] for i in a]\n",
    "print(m)"
   ]
  },
  {
   "cell_type": "code",
   "execution_count": null,
   "metadata": {},
   "outputs": [],
   "source": [
    "def xshapes(arr):\n",
    "    arrs = [[list(r)] for r in arr]\n",
    "    marker = [[0 for j in arr[0]] for i in arr]\n",
    "    \n",
    "    def mark(arrs,marker,i,j):\n",
    "        if i>=0 and i<len(arrs) and j>=0 and j<len(arrs[0]):\n",
    "            if marker[i][j] is 0 and arrs[i][j]:\n",
    "                \n",
    "                  \n",
    "    ctr = 0\n",
    "    for i in range(len(arr)):\n",
    "        for j in range(len(arr[0])):\n",
    "            if marker[i][j] is 0 and arrs[i][j]:\n",
    "                ctr +=1\n",
    "                "
   ]
  },
  {
   "cell_type": "code",
   "execution_count": 1,
   "metadata": {},
   "outputs": [],
   "source": [
    "import sqlite3 \n",
    "  \n",
    "# connecting to the database  \n",
    "connection = sqlite3.connect(\"myTable.db\") \n",
    "  \n",
    "# cursor  \n",
    "crsr = connection.cursor() \n",
    "  \n",
    "# SQL command to create a table in the database \n",
    "sql_command = \"\"\"CREATE TABLE emp (  \n",
    "staff_number INTEGER PRIMARY KEY,  \n",
    "fname VARCHAR(20),  \n",
    "lname VARCHAR(30),  \n",
    "gender CHAR(1),  \n",
    "joining DATE);\"\"\"\n",
    "  \n",
    "# execute the statement \n",
    "crsr.execute(sql_command) \n",
    "  \n",
    "# SQL command to insert the data in the table \n",
    "sql_command = \"\"\"INSERT INTO emp VALUES (23, \"Rishabh\", \"Bansal\", \"M\", \"2014-03-28\");\"\"\"\n",
    "crsr.execute(sql_command) \n",
    "  \n",
    "# another SQL command to insert the data in the table \n",
    "sql_command = \"\"\"INSERT INTO emp VALUES (1, \"Bill\", \"Gates\", \"M\", \"1980-10-28\");\"\"\"\n",
    "crsr.execute(sql_command) \n",
    "  \n",
    "# To save the changes in the files. Never skip this.  \n",
    "# If we skip this, nothing will be saved in the database. \n",
    "connection.commit() \n",
    "  \n",
    "# close the connection \n",
    "connection.close() "
   ]
  },
  {
   "cell_type": "code",
   "execution_count": null,
   "metadata": {},
   "outputs": [],
   "source": []
  }
 ],
 "metadata": {
  "kernelspec": {
   "display_name": "Python 3",
   "language": "python",
   "name": "python3"
  },
  "language_info": {
   "codemirror_mode": {
    "name": "ipython",
    "version": 3
   },
   "file_extension": ".py",
   "mimetype": "text/x-python",
   "name": "python",
   "nbconvert_exporter": "python",
   "pygments_lexer": "ipython3",
   "version": "3.7.5"
  }
 },
 "nbformat": 4,
 "nbformat_minor": 2
}
