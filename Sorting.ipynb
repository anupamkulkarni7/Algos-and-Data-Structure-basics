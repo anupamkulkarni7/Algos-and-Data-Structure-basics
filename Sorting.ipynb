{
 "cells": [
  {
   "cell_type": "code",
   "execution_count": 32,
   "metadata": {},
   "outputs": [],
   "source": [
    "import random\n",
    "from data_structures.linked_list import *"
   ]
  },
  {
   "cell_type": "markdown",
   "metadata": {},
   "source": [
    "# Sorting Algorithms\n",
    "\n",
    "Quick Sort, Quick Select\n",
    "Merge Sort\n",
    "Insertion Sort"
   ]
  },
  {
   "cell_type": "markdown",
   "metadata": {},
   "source": [
    "### Quick Sort and Quick Select"
   ]
  },
  {
   "cell_type": "code",
   "execution_count": 49,
   "metadata": {},
   "outputs": [],
   "source": [
    "def partition(arr, li, ri):\n",
    "    k = random.randint(li,ri)\n",
    "    arr[ri], arr[k] = arr[k], arr[ri]\n",
    "    pivot = arr[k][1]\n",
    "    i1 = li-1\n",
    "    for i in range(li, ri):\n",
    "        if arr[i][1] <= pivot:\n",
    "            i1 += 1\n",
    "            arr[i1], arr[i] = arr[i], arr[i1]\n",
    "    i1 +=1\n",
    "    arr[i1],arr[ri] = arr[ri], arr[i1]\n",
    "    return i1\n",
    "\n",
    "def spartition(arr, li, ri):\n",
    "    \"\"\"\n",
    "    STABLE partitioning\n",
    "    \"\"\"\n",
    "    k = random.randint(li,ri)\n",
    "    pivot = arr[k][1]\n",
    "    l, r, p = [], [], []\n",
    "    for i in range(li, ri+1):\n",
    "        if arr[i][1] < pivot:\n",
    "            l.append(arr[i])\n",
    "        elif arr[i][1] > pivot:\n",
    "            r.append(arr[i])\n",
    "        else:\n",
    "            if i<k:\n",
    "                l.append(arr[i])\n",
    "            elif i>k:\n",
    "                r.append(arr[i])\n",
    "            else:\n",
    "                p.append(arr[i])\n",
    "        \n",
    "    arr[li:ri+1] = l+p+r\n",
    "    i1 = li + len(l)\n",
    "    del l,r, p\n",
    "    return i1\n",
    "\n",
    "\n",
    "\n",
    "def quicksort(arr,li,ri):\n",
    "    if li >= ri:\n",
    "        return\n",
    "    \n",
    "    p = spartition(arr, li, ri)\n",
    "    quicksort(arr,li,p-1)\n",
    "    quicksort(arr,p+1,ri)\n",
    "\n",
    "\n",
    "def select(arr,li,ri,k):\n",
    "    p = spartition(arr,li,ri)\n",
    "    if p == k:\n",
    "        return arr[k]\n",
    "    elif p < k:\n",
    "        return select(arr,p+1,ri,k)\n",
    "    else:\n",
    "        return select(arr,li,p-1,k)"
   ]
  },
  {
   "cell_type": "code",
   "execution_count": 54,
   "metadata": {},
   "outputs": [
    {
     "name": "stdout",
     "output_type": "stream",
     "text": [
      "[['g', 2], ['a', 5], ['y', 7], ['t', -1], ['b', 4], ['c', 5], ['z', -1]]\n",
      "[['t', -1], ['z', -1], ['g', 2], ['b', 4], ['a', 5], ['c', 5], ['y', 7]]\n"
     ]
    }
   ],
   "source": [
    "val = [2,5,7,-1,4,5,-1]\n",
    "key = ['g','a','y','t','b','c','z']\n",
    "a = [[k,v] for k,v in zip(key,val)]\n",
    "print(a)\n",
    "print(sorted(a, key=lambda x: x[1]))"
   ]
  },
  {
   "cell_type": "code",
   "execution_count": 51,
   "metadata": {},
   "outputs": [
    {
     "data": {
      "text/plain": [
       "['g', 2]"
      ]
     },
     "execution_count": 51,
     "metadata": {},
     "output_type": "execute_result"
    }
   ],
   "source": [
    "select(a,0,len(a)-1,2)"
   ]
  },
  {
   "cell_type": "code",
   "execution_count": 53,
   "metadata": {},
   "outputs": [
    {
     "data": {
      "text/plain": [
       "[['t', -1], ['z', -1], ['g', 2], ['b', 4], ['a', 5], ['c', 5], ['y', 7]]"
      ]
     },
     "execution_count": 53,
     "metadata": {},
     "output_type": "execute_result"
    }
   ],
   "source": [
    "quicksort(a, 0, len(a)-1)\n",
    "a"
   ]
  },
  {
   "cell_type": "markdown",
   "metadata": {},
   "source": [
    "### MergeSort"
   ]
  },
  {
   "cell_type": "code",
   "execution_count": 6,
   "metadata": {},
   "outputs": [],
   "source": [
    "def mergesort(arr, li, ri):\n",
    "    \n",
    "    if li==ri:\n",
    "        return [arr[li]]\n",
    "    \n",
    "    def merge(arr1,arr2):\n",
    "        l1,l2 = len(arr1), len(arr2)\n",
    "        i1, i2 = 0, 0\n",
    "        arr = []\n",
    "        for i in range(l1+l2):\n",
    "            if arr1[i1] <= arr2[i2]:\n",
    "                arr.append(arr1[i1])\n",
    "                i1 += 1\n",
    "            else:\n",
    "                arr.append(arr2[i2])\n",
    "                i2 += 1\n",
    "            if i1 is l1 or i2 is l2:\n",
    "                break\n",
    "        if i1 is l1:\n",
    "            return arr + arr2[i2:]\n",
    "        if i2 is l2:\n",
    "            return arr + arr1[i1:]\n",
    "    \n",
    "    mid = (li+ri)//2\n",
    "    left = mergesort(arr,li, mid)\n",
    "    right = mergesort(arr,mid+1,ri)\n",
    "    return merge(left, right)"
   ]
  },
  {
   "cell_type": "code",
   "execution_count": 16,
   "metadata": {},
   "outputs": [
    {
     "name": "stdout",
     "output_type": "stream",
     "text": [
      "[-4, 0, 1, 1, 5, 6, 9]\n"
     ]
    }
   ],
   "source": [
    "a = [9,-4,6,1,0, 5, 1]\n",
    "asor = mergesort(a,0,len(a)-1)\n",
    "print(asor)"
   ]
  },
  {
   "cell_type": "markdown",
   "metadata": {},
   "source": [
    "### Insertion Sort"
   ]
  },
  {
   "cell_type": "code",
   "execution_count": 19,
   "metadata": {},
   "outputs": [],
   "source": [
    "def insertion_sort(arr):\n",
    "    for i in range(1,len(arr)):\n",
    "        key = arr[i]\n",
    "        for j in range(i-1,-1,-1):\n",
    "            if arr[j] > key:\n",
    "                arr[j+1] = arr[j]\n",
    "                arr[j] = key\n",
    "            else:\n",
    "                arr[j+1] = key\n",
    "                break\n",
    "        "
   ]
  },
  {
   "cell_type": "code",
   "execution_count": 21,
   "metadata": {},
   "outputs": [
    {
     "name": "stdout",
     "output_type": "stream",
     "text": [
      "[-4, 0, 1, 1, 5, 6, 9]\n"
     ]
    }
   ],
   "source": [
    "a = [9,-4,6,1,0, 5, 1]\n",
    "insertion_sort(a)\n",
    "print(a)"
   ]
  },
  {
   "cell_type": "code",
   "execution_count": 22,
   "metadata": {},
   "outputs": [
    {
     "data": {
      "text/plain": [
       "[0, 1, 2, 3, 4]"
      ]
     },
     "execution_count": 22,
     "metadata": {},
     "output_type": "execute_result"
    }
   ],
   "source": [
    "list(range(5))"
   ]
  },
  {
   "cell_type": "code",
   "execution_count": 30,
   "metadata": {},
   "outputs": [],
   "source": [
    "def sucsubarr(arr):\n",
    "    maxa = [0]*len(arr)\n",
    "    maxa[0] = arr[0]\n",
    "    for i in range(1,len(arr)):\n",
    "        maxa[i] = max(maxa[i-1],arr[i])\n",
    "    \n",
    "    mina = [0]*len(arr)\n",
    "    mina[-1] = arr[-1]\n",
    "    for i in range(len(arr)-2,-1,-1):\n",
    "        mina[i] = min(mina[i+1],arr[i])\n",
    "    \n",
    "    for i in range(len(arr)):\n",
    "        if arr[i] is not mina[i]:\n",
    "            break\n",
    "    for j in range(len(arr)-1,-1,-1):\n",
    "        if arr[j] is not maxa[j]:\n",
    "            break\n",
    "    \n",
    "    return arr[i:j+1]"
   ]
  },
  {
   "cell_type": "code",
   "execution_count": 41,
   "metadata": {},
   "outputs": [],
   "source": [
    "a1, a2 = SLL(), SLL()\n",
    "a1.create_from_arr([0, 25, 32, 40])\n",
    "a2.create_from_arr([-4,10,38, 39])"
   ]
  },
  {
   "cell_type": "code",
   "execution_count": 42,
   "metadata": {},
   "outputs": [],
   "source": [
    "def merge(n1,n2):\n",
    "    if n1 is None:\n",
    "        return n2\n",
    "    if n2 is None:\n",
    "        return n1\n",
    "    \n",
    "    if n1.data <= n2.data:\n",
    "        ans = n1\n",
    "        ans.next = merge(n1.next, n2)\n",
    "    else:\n",
    "        ans = n2\n",
    "        ans.next = merge(n1, n2.next)\n",
    "    return ans\n"
   ]
  },
  {
   "cell_type": "code",
   "execution_count": 43,
   "metadata": {},
   "outputs": [],
   "source": [
    "ans = SLL()\n",
    "ans.head = merge(a1.head,a2.head)"
   ]
  },
  {
   "cell_type": "code",
   "execution_count": 44,
   "metadata": {},
   "outputs": [
    {
     "name": "stdout",
     "output_type": "stream",
     "text": [
      "[-4, 0, 10, 25, 32, 38, 39, 40]\n"
     ]
    }
   ],
   "source": [
    "ans.print()\n"
   ]
  },
  {
   "cell_type": "code",
   "execution_count": 45,
   "metadata": {},
   "outputs": [],
   "source": [
    "def binary_search(arr,li,ri,target):\n",
    "    if li > ri:\n",
    "        return -1\n",
    "    mid = (li+ri)//2\n",
    "    if arr[mid] == target:\n",
    "        return mid\n",
    "    elif target < arr[mid]:\n",
    "        return binary_search(arr,li,mid-1,target)\n",
    "    else:\n",
    "        return binary_search(arr,mid+1,ri, target)\n",
    "    "
   ]
  },
  {
   "cell_type": "code",
   "execution_count": 56,
   "metadata": {},
   "outputs": [],
   "source": [
    "def bs2(arr,x):\n",
    "    \"\"\"\n",
    "    Binary search to find an element in arr closest to x, arr sorted.\n",
    "    \"\"\"\n",
    "    def util(arr,x,li,ri):\n",
    "        if li>ri:\n",
    "            return ri\n",
    "        mid = (li+ri)//2\n",
    "        if arr[mid] is x:\n",
    "            return mid\n",
    "        elif x > arr[mid]:\n",
    "            return util(arr,x,mid+1,ri)\n",
    "        else:\n",
    "            return util(arr,x,li,mid-1)\n",
    "    \n",
    "    p = util(arr,x, 0, len(arr)-1)  \n",
    "    if p<0:\n",
    "        return arr[0]\n",
    "    if p is len(arr)-1:\n",
    "        return arr[p]\n",
    "    \n",
    "    dsl = abs(arr[p]-x)\n",
    "    dsr = abs(arr[p+1]-x)\n",
    "    if dsl <= dsr:\n",
    "        return arr[p]\n",
    "    else:\n",
    "        return arr[p+1]"
   ]
  },
  {
   "cell_type": "code",
   "execution_count": 64,
   "metadata": {},
   "outputs": [
    {
     "data": {
      "text/plain": [
       "6"
      ]
     },
     "execution_count": 64,
     "metadata": {},
     "output_type": "execute_result"
    }
   ],
   "source": [
    "bs2(asor,12)"
   ]
  },
  {
   "cell_type": "code",
   "execution_count": 65,
   "metadata": {},
   "outputs": [],
   "source": [
    "def fone(arr):\n",
    "    \"\"\"\n",
    "    First one in a sorted binary array.\n",
    "    \"\"\"\n",
    "    \n",
    "    def util(arr,li,ri):\n",
    "        if li>ri:\n",
    "            return li\n",
    "        mid = (li+ri)//2\n",
    "        if arr[mid] is 1:\n",
    "            return util(arr,li,mid-1)\n",
    "        if arr[mid] is 0:\n",
    "            return util(arr,mid+1,ri)\n",
    "    \n",
    "    return util(arr,0,len(arr)-1)\n",
    "    "
   ]
  },
  {
   "cell_type": "code",
   "execution_count": 69,
   "metadata": {},
   "outputs": [
    {
     "data": {
      "text/plain": [
       "5"
      ]
     },
     "execution_count": 69,
     "metadata": {},
     "output_type": "execute_result"
    }
   ],
   "source": [
    "a = [0,0,0,0,0]\n",
    "fone(a)"
   ]
  },
  {
   "cell_type": "code",
   "execution_count": 77,
   "metadata": {},
   "outputs": [],
   "source": [
    "def closest_sum(arr,target):\n",
    "    \"\"\"\n",
    "    Given an array of sorted numbers, find the pair of elements whose sum is closest to the target.\n",
    "    \"\"\"\n",
    "    li, ri = 0,len(arr)-1\n",
    "    \n",
    "    while li<ri:\n",
    "        csum = arr[li]+arr[ri]\n",
    "        if csum < target:\n",
    "            li +=1\n",
    "        elif csum > target:\n",
    "            ri -=1\n",
    "        else:\n",
    "            break\n",
    "    \n",
    "    if csum == target:\n",
    "        return arr[li], arr[ri]\n",
    "        \n",
    "    \n",
    "    "
   ]
  },
  {
   "cell_type": "code",
   "execution_count": 78,
   "metadata": {},
   "outputs": [
    {
     "name": "stdout",
     "output_type": "stream",
     "text": [
      "7 7\n",
      "0 4 [0, 4]\n"
     ]
    },
    {
     "data": {
      "text/plain": [
       "(3, 15)"
      ]
     },
     "execution_count": 78,
     "metadata": {},
     "output_type": "execute_result"
    }
   ],
   "source": [
    "a = [3,4,7,11,15,24,29,34]\n",
    "closest_sum(a,25)"
   ]
  },
  {
   "cell_type": "code",
   "execution_count": 4,
   "metadata": {},
   "outputs": [],
   "source": [
    "def bubblesort(arr):\n",
    "    \n",
    "    for j in range(len(arr)):\n",
    "        for i in range(1,len(arr)):\n",
    "            if arr[i]<arr[i-1]:\n",
    "                arr[i-1],arr[i] = arr[i], arr[i-1]\n",
    "    return arr"
   ]
  },
  {
   "cell_type": "code",
   "execution_count": 5,
   "metadata": {},
   "outputs": [
    {
     "name": "stdout",
     "output_type": "stream",
     "text": [
      "[-1, 0, 3, 3, 4, 8, 23]\n"
     ]
    }
   ],
   "source": [
    "a = [4,8,-1,3,0,23,3]\n",
    "bubblesort(a)\n",
    "print(a)"
   ]
  },
  {
   "cell_type": "code",
   "execution_count": null,
   "metadata": {},
   "outputs": [],
   "source": []
  }
 ],
 "metadata": {
  "kernelspec": {
   "display_name": "Python 3",
   "language": "python",
   "name": "python3"
  },
  "language_info": {
   "codemirror_mode": {
    "name": "ipython",
    "version": 3
   },
   "file_extension": ".py",
   "mimetype": "text/x-python",
   "name": "python",
   "nbconvert_exporter": "python",
   "pygments_lexer": "ipython3",
   "version": "3.7.5"
  }
 },
 "nbformat": 4,
 "nbformat_minor": 2
}
