{
 "cells": [
  {
   "cell_type": "code",
   "execution_count": null,
   "metadata": {},
   "outputs": [],
   "source": []
  },
  {
   "cell_type": "code",
   "execution_count": 6,
   "metadata": {},
   "outputs": [],
   "source": [
    "def rev_sp(txt):\n",
    "    \"\"\"\n",
    "    Reverse string such that special characters stay where they are.\n",
    "    \"\"\"\n",
    "    txtl = list(txt)\n",
    "    li,ri = 0,len(txtl)-1\n",
    "    \n",
    "    while li<ri:\n",
    "        if txtl[li].isalpha() and txtl[ri].isalpha():\n",
    "            txtl[li], txtl[ri] = txtl[ri], txtl[li]\n",
    "            li += 1\n",
    "            ri -= 1\n",
    "        elif not txtl[li].isalpha() and not txtl[ri].isalpha():\n",
    "            li += 1\n",
    "            ri -= 1\n",
    "        elif txtl[li].isalpha() and not txtl[ri].isalpha():\n",
    "            ri -= 1\n",
    "        else:\n",
    "            li += 1\n",
    "    \n",
    "    return ''.join(txtl)"
   ]
  },
  {
   "cell_type": "code",
   "execution_count": 7,
   "metadata": {},
   "outputs": [
    {
     "data": {
      "text/plain": [
       "'a,b$c'"
      ]
     },
     "execution_count": 7,
     "metadata": {},
     "output_type": "execute_result"
    }
   ],
   "source": [
    "s"
   ]
  },
  {
   "cell_type": "code",
   "execution_count": 25,
   "metadata": {},
   "outputs": [],
   "source": [
    "def triplets(arr,target):\n",
    "    \"\"\"\n",
    "    Return count of all possible triplets from an array of distinct integers which have a sum LESS than the target.\n",
    "    \"\"\"\n",
    "    sorr = sorted(arr)\n",
    "    ans = 0\n",
    "    for k in range(len(arr)-2):\n",
    "        newtar = target - sorr[k]\n",
    "        i,j = k+1, len(arr)-1\n",
    "        while i<j:\n",
    "            if sorr[i]+sorr[j]>=newtar:\n",
    "                j-=1\n",
    "            else:\n",
    "                ans +=j-i\n",
    "                i+=1\n",
    "    \n",
    "    return ans"
   ]
  },
  {
   "cell_type": "code",
   "execution_count": 26,
   "metadata": {},
   "outputs": [
    {
     "name": "stdout",
     "output_type": "stream",
     "text": [
      "2\n"
     ]
    }
   ],
   "source": [
    "a,t = [-2, 0, 1, 3], 2\n",
    "print(triplets(a,t))"
   ]
  },
  {
   "cell_type": "code",
   "execution_count": 27,
   "metadata": {},
   "outputs": [],
   "source": [
    "def zigzag(arr):\n",
    "    up = 1\n",
    "    for i in range(len(arr)-1):\n",
    "        if up is 1:\n",
    "            if arr[i]>arr[i+1]:\n",
    "                arr[i],arr[i+1] = arr[i+1],arr[i]\n",
    "            up = -1\n",
    "        else:\n",
    "            if arr[i]<arr[i+1]:\n",
    "                arr[i],arr[i+1] = arr[i+1],arr[i]\n",
    "            up = 1"
   ]
  },
  {
   "cell_type": "code",
   "execution_count": 28,
   "metadata": {},
   "outputs": [
    {
     "name": "stdout",
     "output_type": "stream",
     "text": [
      "[3, 7, 4, 8, 2, 6, 1]\n"
     ]
    }
   ],
   "source": [
    "arr = [4, 3, 7, 8, 6, 2, 1]\n",
    "zigzag(arr)\n",
    "print(arr)"
   ]
  },
  {
   "cell_type": "code",
   "execution_count": null,
   "metadata": {},
   "outputs": [],
   "source": [
    "def alsor(arr1, arr2):\n",
    "    \"\"\"\n",
    "    Given two sorted arrays A and B, generate all possible arrays such that first element is taken from A\n",
    "    then from B then from A and so on in increasing order till the arrays exhausted. \n",
    "    The generated arrays should end with an element from B.\n",
    "    \"\"\"\n",
    "    \n",
    "    def util(arr,li,ri):\n",
    "    "
   ]
  }
 ],
 "metadata": {
  "kernelspec": {
   "display_name": "Python 3",
   "language": "python",
   "name": "python3"
  },
  "language_info": {
   "codemirror_mode": {
    "name": "ipython",
    "version": 3
   },
   "file_extension": ".py",
   "mimetype": "text/x-python",
   "name": "python",
   "nbconvert_exporter": "python",
   "pygments_lexer": "ipython3",
   "version": "3.7.5"
  }
 },
 "nbformat": 4,
 "nbformat_minor": 2
}
