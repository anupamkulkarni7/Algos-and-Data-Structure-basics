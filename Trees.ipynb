{
 "cells": [
  {
   "cell_type": "code",
   "execution_count": 19,
   "metadata": {},
   "outputs": [
    {
     "name": "stdout",
     "output_type": "stream",
     "text": [
      "The autoreload extension is already loaded. To reload it, use:\n",
      "  %reload_ext autoreload\n"
     ]
    }
   ],
   "source": [
    "from data_structures.trees import *\n",
    "import sys\n",
    "%load_ext autoreload"
   ]
  },
  {
   "cell_type": "code",
   "execution_count": 51,
   "metadata": {},
   "outputs": [],
   "source": [
    "def traverse(root, method):\n",
    "    \n",
    "    def preorder(node,arr):\n",
    "        if node:\n",
    "            print(node.val)\n",
    "            arr.append(node.val)\n",
    "            preorder(node.lc, arr)\n",
    "            preorder(node.rc, arr)\n",
    "            \n",
    "    def inorder(node, arr):\n",
    "        if node:\n",
    "            inorder.pre +=1\n",
    "            currpre = inorder.pre\n",
    "            inorder(node.lc, arr)\n",
    "            print(node.val,currpre)\n",
    "            arr.append(node.val)\n",
    "            inorder(node.rc, arr)\n",
    "    \n",
    "    def postorder(node, arr):\n",
    "        if node:\n",
    "            postorder(node.lc, arr)\n",
    "            postorder(node.rc, arr)\n",
    "            print(node.val)\n",
    "            arr.append(node.val)\n",
    "    \n",
    "    arr= []\n",
    "    if method is 'pre':\n",
    "        preorder.indx = -1\n",
    "        if root:\n",
    "            preorder(root, arr)\n",
    "    elif method is 'in':\n",
    "        inorder.pre = -1\n",
    "        if root:\n",
    "            inorder(root, arr)\n",
    "    elif method is 'post':\n",
    "        if root:\n",
    "            postorder(root, arr)\n",
    "    else:\n",
    "        print(\"Incorrect method chosen. Choose between pre, in and post.\")\n",
    "    \n",
    "    return arr"
   ]
  },
  {
   "cell_type": "code",
   "execution_count": 21,
   "metadata": {},
   "outputs": [],
   "source": [
    "def levelorder(root):\n",
    "    \n",
    "    q, arr = [], []\n",
    "    if root:\n",
    "        q.append([root,0])\n",
    "        \n",
    "    while len(q) > 0:\n",
    "        node, lvl = q.pop(0)\n",
    "        if lvl == len(arr):\n",
    "            arr.append([node.val])\n",
    "        else:\n",
    "            arr[lvl].append(node.val)\n",
    "        print(node.val, lvl)\n",
    "        if node.lc:\n",
    "            q.append([node.lc,lvl+1])\n",
    "        if node.rc:\n",
    "            q.append([node.rc,lvl+1])\n",
    "    \n",
    "    return arr"
   ]
  },
  {
   "cell_type": "code",
   "execution_count": 22,
   "metadata": {},
   "outputs": [],
   "source": [
    "def traverse_iter(root, method):\n",
    "    \n",
    "    def preorder(root, arr):\n",
    "        s = []\n",
    "        if root:\n",
    "            s.append(root)\n",
    "        while len(s) > 0:\n",
    "            node = s.pop()\n",
    "            print(node.val)\n",
    "            arr.append(node.val)\n",
    "            if node.rc:\n",
    "                s.append(node.rc)\n",
    "            if node.lc:\n",
    "                s.append(node.lc)\n",
    "        \n",
    "    def inorder(root, arr):\n",
    "        s = []\n",
    "        if root:\n",
    "            s.append(root)\n",
    "        while len(s) > 0:\n",
    "            node = s.pop()\n",
    "            if node:\n",
    "                s.append(node.rc)\n",
    "                s.append(node)\n",
    "                s.append(node.lc)\n",
    "            else:\n",
    "                if len(s) > 0:\n",
    "                    node = s.pop()\n",
    "                    print(node.val)\n",
    "                    arr.append(node.val)\n",
    "        \n",
    "    def postorder(root, arr):\n",
    "        s = []\n",
    "        if root:\n",
    "            s.append(root)\n",
    "            \n",
    "        while len(s) > 0:\n",
    "            node = s.pop()\n",
    "            if node:\n",
    "                s.append(node)\n",
    "                s.append(node.rc)\n",
    "                s.append(node.lc)\n",
    "            else:\n",
    "                if len(s) > 0:\n",
    "                    ref = s.pop()\n",
    "                    if ref is not None:\n",
    "                        s.append(None)\n",
    "                        s.append(ref)\n",
    "                    else:\n",
    "                        if len(s) > 0:\n",
    "                            node = s.pop()\n",
    "                            print(node.val)\n",
    "                            arr.append(node.val)\n",
    "                            s.append(None)\n",
    "    \n",
    "    arr= []\n",
    "    if method is 'pre':\n",
    "        if root:\n",
    "            preorder(root, arr)\n",
    "    elif method is 'in':\n",
    "        if root:\n",
    "            inorder(root, arr)\n",
    "    elif method is 'post':\n",
    "        if root:\n",
    "            postorder(root, arr)\n",
    "    else:\n",
    "        print(\"Incorrect method chosen. Choose between pre, in and post.\")\n",
    "    \n",
    "    return arr"
   ]
  },
  {
   "cell_type": "code",
   "execution_count": 23,
   "metadata": {},
   "outputs": [],
   "source": [
    "def create_tree():\n",
    "    t1 = BinaryTree()\n",
    "    t1.root = TreeNode(0)\n",
    "    curr = t1.root\n",
    "    curr.lc, curr.rc = TreeNode(1), TreeNode(2)\n",
    "    curr = curr.lc\n",
    "    curr.lc, curr.rc = TreeNode(3), TreeNode(4)\n",
    "    curr.lc.lc = TreeNode(5)\n",
    "    curr.rc.lc = TreeNode(6)\n",
    "    \n",
    "    return t1"
   ]
  },
  {
   "cell_type": "code",
   "execution_count": 24,
   "metadata": {},
   "outputs": [],
   "source": [
    "t1 = create_tree()"
   ]
  },
  {
   "cell_type": "code",
   "execution_count": 25,
   "metadata": {},
   "outputs": [],
   "source": [
    "def depth(root):\n",
    "    if root is None:\n",
    "        return -1 #Or 0 if root is supposed to be depth 1\n",
    "    \n",
    "    return max(depth(root.lc), depth(root.rc)) + 1"
   ]
  },
  {
   "cell_type": "code",
   "execution_count": 26,
   "metadata": {},
   "outputs": [],
   "source": [
    "def diameter(node):\n",
    "    if node is None:\n",
    "        return 0,0\n",
    "    \n",
    "    lht, ldiam = diameter(node.lc)\n",
    "    rht, rdiam = diameter(node.rc)\n",
    "    diam = max(ldiam, rdiam, lht+rht+1)\n",
    "    return max(lht,rht)+1, diam "
   ]
  },
  {
   "cell_type": "code",
   "execution_count": 27,
   "metadata": {},
   "outputs": [
    {
     "data": {
      "text/plain": [
       "(4, 5)"
      ]
     },
     "execution_count": 27,
     "metadata": {},
     "output_type": "execute_result"
    }
   ],
   "source": [
    "diameter(t1.root)"
   ]
  },
  {
   "cell_type": "code",
   "execution_count": 35,
   "metadata": {},
   "outputs": [
    {
     "name": "stdout",
     "output_type": "stream",
     "text": [
      "5\n",
      "3\n",
      "1\n",
      "6\n",
      "4\n",
      "0\n",
      "2\n",
      "0\n",
      "1\n",
      "3\n",
      "5\n",
      "4\n",
      "6\n",
      "2\n"
     ]
    }
   ],
   "source": [
    "inorder = traverse(t1.root,method='in')\n",
    "preorder = traverse(t1.root,method='pre')"
   ]
  },
  {
   "cell_type": "code",
   "execution_count": 36,
   "metadata": {},
   "outputs": [],
   "source": [
    "tnew = func(inorder, preorder)"
   ]
  },
  {
   "cell_type": "code",
   "execution_count": 52,
   "metadata": {},
   "outputs": [
    {
     "name": "stdout",
     "output_type": "stream",
     "text": [
      "0\n",
      "1\n",
      "3\n",
      "5\n",
      "4\n",
      "6\n",
      "2\n",
      "[0, 1, 3, 5, 4, 6, 2]\n",
      "5 3\n",
      "3 2\n",
      "1 1\n",
      "6 5\n",
      "4 4\n",
      "0 0\n",
      "2 6\n"
     ]
    },
    {
     "data": {
      "text/plain": [
       "[5, 3, 1, 6, 4, 0, 2]"
      ]
     },
     "execution_count": 52,
     "metadata": {},
     "output_type": "execute_result"
    }
   ],
   "source": [
    "print(traverse(tnew.root,method='pre'))\n",
    "traverse(tnew.root,method='in')"
   ]
  },
  {
   "cell_type": "code",
   "execution_count": 12,
   "metadata": {},
   "outputs": [],
   "source": [
    "def clone(root):\n",
    "    node = TreeNode(root.val)\n",
    "    if root.lc:\n",
    "        node.lc = clone(root.lc)\n",
    "    if root.rc:\n",
    "        node.rc = clone(root.rc)\n",
    "    return node"
   ]
  },
  {
   "cell_type": "code",
   "execution_count": 13,
   "metadata": {},
   "outputs": [],
   "source": [
    "t2 = BST()\n",
    "t2.from_array([8,3,10,1,6,14,4,7,13])"
   ]
  },
  {
   "cell_type": "code",
   "execution_count": 14,
   "metadata": {},
   "outputs": [
    {
     "name": "stdout",
     "output_type": "stream",
     "text": [
      "1\n",
      "3\n",
      "4\n",
      "6\n",
      "7\n",
      "8\n",
      "10\n",
      "13\n",
      "14\n"
     ]
    },
    {
     "data": {
      "text/plain": [
       "[1, 3, 4, 6, 7, 8, 10, 13, 14]"
      ]
     },
     "execution_count": 14,
     "metadata": {},
     "output_type": "execute_result"
    }
   ],
   "source": [
    "traverse(t2.root, method='in')"
   ]
  },
  {
   "cell_type": "code",
   "execution_count": 15,
   "metadata": {},
   "outputs": [
    {
     "name": "stdout",
     "output_type": "stream",
     "text": [
      "8 0\n",
      "3 1\n",
      "10 1\n",
      "1 2\n",
      "6 2\n",
      "14 2\n",
      "4 3\n",
      "7 3\n",
      "13 3\n"
     ]
    },
    {
     "data": {
      "text/plain": [
       "[[8], [3, 10], [1, 6, 14], [4, 7, 13]]"
      ]
     },
     "execution_count": 15,
     "metadata": {},
     "output_type": "execute_result"
    }
   ],
   "source": [
    "levelorder(t2.root)"
   ]
  },
  {
   "cell_type": "code",
   "execution_count": 16,
   "metadata": {},
   "outputs": [],
   "source": [
    "def addnode(root,target):\n",
    "    newnode = TreeNode(target)\n",
    "    \n",
    "    def util(node):\n",
    "        if node is None:\n",
    "            return newnode\n",
    "        elif target>node.val:\n",
    "            node.rc = util(node.rc)\n",
    "        else:\n",
    "            node.lc = util(node.lc)\n",
    "        return node\n",
    "    \n",
    "    util(root)"
   ]
  },
  {
   "cell_type": "code",
   "execution_count": 17,
   "metadata": {},
   "outputs": [
    {
     "name": "stdout",
     "output_type": "stream",
     "text": [
      "1\n",
      "3\n",
      "4\n",
      "6\n",
      "7\n",
      "8\n",
      "9\n",
      "10\n",
      "13\n",
      "14\n"
     ]
    },
    {
     "data": {
      "text/plain": [
       "[1, 3, 4, 6, 7, 8, 9, 10, 13, 14]"
      ]
     },
     "execution_count": 17,
     "metadata": {},
     "output_type": "execute_result"
    }
   ],
   "source": [
    "addnode(t2.root,9)\n",
    "traverse(t2.root,method='in')\n",
    "#levelorder(t2.root)"
   ]
  },
  {
   "cell_type": "code",
   "execution_count": 18,
   "metadata": {},
   "outputs": [],
   "source": [
    "def is_bst2(root):\n",
    "    if root is None:\n",
    "        return False\n",
    "    \n",
    "    def util(node, minval, maxval):\n",
    "        if node is None:\n",
    "            return True\n",
    "        if minval < node.val < maxval:\n",
    "            c1 = util(node.lc,minval,node.val)\n",
    "            c2 = util(node.rc,node.val,maxval)\n",
    "            return c1 and c2\n",
    "        else:\n",
    "            return False\n",
    "        \n",
    "    return util(root,-sys.maxsize,sys.maxsize)\n",
    "    "
   ]
  },
  {
   "cell_type": "code",
   "execution_count": 19,
   "metadata": {},
   "outputs": [],
   "source": [
    "def is_bal2(root):\n",
    "    \n",
    "    def util(root):\n",
    "        if root is None:\n",
    "            return 0\n",
    "        c1 = util(root.lc)\n",
    "        c2 = util(root.rc)\n",
    "        if c1 is not None and c2 is not None:\n",
    "            if abs(c2-c1) <= 1:\n",
    "                return max(c1,c2) + 1\n",
    "            else:\n",
    "                return None\n",
    "        return None\n",
    "    \n",
    "    if util(root):\n",
    "        return True\n",
    "    else:\n",
    "        return False"
   ]
  },
  {
   "cell_type": "code",
   "execution_count": 20,
   "metadata": {},
   "outputs": [
    {
     "data": {
      "text/plain": [
       "True"
      ]
     },
     "execution_count": 20,
     "metadata": {},
     "output_type": "execute_result"
    }
   ],
   "source": [
    "#is_bst2(t2.root)\n",
    "is_bal2(t2.root)"
   ]
  },
  {
   "cell_type": "code",
   "execution_count": 21,
   "metadata": {},
   "outputs": [],
   "source": [
    "def get_min(root):\n",
    "    if root is None:\n",
    "        return None\n",
    "    if root.lc is None:\n",
    "        return root.val\n",
    "    else:\n",
    "        return get_min(root.lc)"
   ]
  },
  {
   "cell_type": "code",
   "execution_count": 22,
   "metadata": {},
   "outputs": [
    {
     "data": {
      "text/plain": [
       "1"
      ]
     },
     "execution_count": 22,
     "metadata": {},
     "output_type": "execute_result"
    }
   ],
   "source": [
    "get_min(t2.root)"
   ]
  },
  {
   "cell_type": "code",
   "execution_count": 23,
   "metadata": {},
   "outputs": [],
   "source": [
    "def common_ancestor(root,n1,n2,m=1):\n",
    "    if n1 is n2:\n",
    "        return n1\n",
    "    if root is None or n1 is None or n2 is None:\n",
    "        return None\n",
    "    \n",
    "    def path(root,target,p):\n",
    "        if root is None:\n",
    "            return False\n",
    "        \n",
    "        if root.val == target:\n",
    "            p.append(root.val)\n",
    "            return True\n",
    "        \n",
    "        c1 = path(root.lc,target,p)\n",
    "        if c1:\n",
    "            p.append(root.val)\n",
    "            return True\n",
    "        c2 = path(root.rc, target,p)\n",
    "        if c2:\n",
    "            p.append(root.val)\n",
    "            return True\n",
    "        \n",
    "        return False\n",
    "    \n",
    "    def util(node,n1,n2):\n",
    "        if node is None:\n",
    "            return None\n",
    "        c1= None\n",
    "        if node.val is n1 or node.val is n2:\n",
    "            c1 = node\n",
    "        c2 = util(node.lc,n1,n2)\n",
    "        c3 = util(node.rc,n1,n2)\n",
    "            \n",
    "        if (c1 and c2) or (c1 and c3) or (c2 and c3):\n",
    "            return node \n",
    "        if c1: return c1\n",
    "        if c2: return c2\n",
    "        if c3: return c3\n",
    "        \n",
    "        return None\n",
    "    \n",
    "    if m is 1:\n",
    "        p1, p2 = [],[]\n",
    "        t1 = path(root,n1,p1)\n",
    "        t2 = path(root,n2,p2)\n",
    "\n",
    "        ans = None\n",
    "        if t1 and t2:\n",
    "            while len(p1)>0 and len(p2)>0 and p1[-1] is p2[-1]:\n",
    "                ans,_ = p1.pop(),p2.pop()\n",
    "\n",
    "        return ans\n",
    "    \n",
    "    if m is 2:\n",
    "        node = util(root,n1,n2)\n",
    "        if node:\n",
    "            return node.val\n",
    "        else:\n",
    "            return None"
   ]
  },
  {
   "cell_type": "code",
   "execution_count": 24,
   "metadata": {},
   "outputs": [
    {
     "data": {
      "text/plain": [
       "6"
      ]
     },
     "execution_count": 24,
     "metadata": {},
     "output_type": "execute_result"
    }
   ],
   "source": [
    "common_ancestor(t2.root,4,7, m=2)"
   ]
  },
  {
   "cell_type": "code",
   "execution_count": 25,
   "metadata": {},
   "outputs": [],
   "source": [
    "def insuc_bst(root, target):\n",
    "    curr = root\n",
    "    prev = None\n",
    "    if root is None:\n",
    "        return None\n",
    "    \n",
    "    while curr.val is not target:\n",
    "        if target>curr.val:\n",
    "            curr = curr.rc\n",
    "        else:\n",
    "            prev = curr\n",
    "            curr = curr.lc\n",
    "        if not curr:\n",
    "            print(\"None found\")\n",
    "            return None\n",
    "        \n",
    "    if curr.rc:\n",
    "        curr = curr.rc\n",
    "        while curr.lc is not None:\n",
    "            curr = curr.lc\n",
    "        return curr.val\n",
    "    else:\n",
    "        if prev:\n",
    "            return prev.val\n",
    "        else:\n",
    "            return None"
   ]
  },
  {
   "cell_type": "code",
   "execution_count": 26,
   "metadata": {},
   "outputs": [
    {
     "name": "stdout",
     "output_type": "stream",
     "text": [
      "None found\n"
     ]
    }
   ],
   "source": [
    "insuc_bst(t1.root,1)"
   ]
  },
  {
   "cell_type": "code",
   "execution_count": 27,
   "metadata": {},
   "outputs": [
    {
     "name": "stdout",
     "output_type": "stream",
     "text": [
      "1\n",
      "3\n",
      "4\n",
      "6\n",
      "7\n",
      "8\n",
      "9\n",
      "10\n",
      "13\n",
      "14\n"
     ]
    },
    {
     "data": {
      "text/plain": [
       "[1, 3, 4, 6, 7, 8, 9, 10, 13, 14]"
      ]
     },
     "execution_count": 27,
     "metadata": {},
     "output_type": "execute_result"
    }
   ],
   "source": [
    "traverse(t2.root,method='in')"
   ]
  },
  {
   "cell_type": "code",
   "execution_count": 28,
   "metadata": {},
   "outputs": [],
   "source": [
    "def ins(root,target):\n",
    "    \n",
    "    def tr(node):\n",
    "        if node:\n",
    "            tr(node.lc)\n",
    "            if tr.found is 1:\n",
    "                tr.found = 0\n",
    "                tr.node = node\n",
    "            if node.val == target:\n",
    "                tr.found = 1\n",
    "            tr(node.rc)\n",
    "    \n",
    "    tr.found = 0\n",
    "    tr.node = None\n",
    "    tr(root)\n",
    "    if tr.node:\n",
    "        return tr.node.val"
   ]
  },
  {
   "cell_type": "code",
   "execution_count": 29,
   "metadata": {},
   "outputs": [
    {
     "data": {
      "text/plain": [
       "9"
      ]
     },
     "execution_count": 29,
     "metadata": {},
     "output_type": "execute_result"
    }
   ],
   "source": [
    "ins(t2.root,8)"
   ]
  },
  {
   "cell_type": "code",
   "execution_count": 30,
   "metadata": {},
   "outputs": [],
   "source": [
    "def kth(root,k):\n",
    "    \n",
    "    def ino(node):\n",
    "        if node:\n",
    "            l1 = ino(node.lc)\n",
    "            ino.ctr +=1\n",
    "            if ino.ctr == k:\n",
    "                return node\n",
    "            l2 = ino(node.rc)\n",
    "            if l1:\n",
    "                return l1\n",
    "            if l2:\n",
    "                return l2\n",
    "            return None\n",
    "        return None\n",
    "    \n",
    "    ino.ctr = 0\n",
    "    ans = ino(root)\n",
    "    if ans:\n",
    "        print(ans.val)\n",
    "    else:\n",
    "        print(\"NONE\")"
   ]
  },
  {
   "cell_type": "code",
   "execution_count": 31,
   "metadata": {},
   "outputs": [
    {
     "name": "stdout",
     "output_type": "stream",
     "text": [
      "6\n"
     ]
    }
   ],
   "source": [
    "kth(t2.root,4)"
   ]
  },
  {
   "cell_type": "code",
   "execution_count": 45,
   "metadata": {},
   "outputs": [],
   "source": [
    "def inorderDLL(root):\n",
    "    \"\"\"\n",
    "    Convert inorder traversal of Binary Tree to a DLL.\n",
    "    \"\"\"\n",
    "    def util(node):\n",
    "        if node:\n",
    "            util(node.lc)\n",
    "            if util.pre:\n",
    "                util.pre.rc = node\n",
    "            else:\n",
    "                util.head = node\n",
    "            node.lc = util.pre\n",
    "            util.pre = node\n",
    "            \n",
    "            util(node.rc)\n",
    "    \n",
    "    util.pre = None\n",
    "    util.head = None\n",
    "    util(root)\n",
    "    \n",
    "    return util.head\n",
    "    "
   ]
  },
  {
   "cell_type": "code",
   "execution_count": 50,
   "metadata": {},
   "outputs": [],
   "source": [
    "def printDLL(head):\n",
    "    curr = head\n",
    "    print(\"Forward:\")\n",
    "    while curr.rc:\n",
    "        print(curr.val)\n",
    "        curr = curr.rc\n",
    "    print(curr.val)\n",
    "    \n",
    "    print(\"Backward:\")\n",
    "    while curr:\n",
    "        print(curr.val)\n",
    "        curr = curr.lc\n",
    "    "
   ]
  },
  {
   "cell_type": "code",
   "execution_count": 47,
   "metadata": {},
   "outputs": [
    {
     "name": "stdout",
     "output_type": "stream",
     "text": [
      "1\n",
      "3\n",
      "4\n",
      "6\n",
      "7\n",
      "8\n",
      "9\n",
      "10\n",
      "13\n",
      "14\n"
     ]
    },
    {
     "data": {
      "text/plain": [
       "[1, 3, 4, 6, 7, 8, 9, 10, 13, 14]"
      ]
     },
     "execution_count": 47,
     "metadata": {},
     "output_type": "execute_result"
    }
   ],
   "source": [
    "t2c = BST()\n",
    "t2c.root = clone(t2.root)\n",
    "traverse(t2c.root, method='in')"
   ]
  },
  {
   "cell_type": "code",
   "execution_count": 48,
   "metadata": {},
   "outputs": [],
   "source": [
    "head = inorderDLL(t2c.root)"
   ]
  },
  {
   "cell_type": "code",
   "execution_count": 49,
   "metadata": {},
   "outputs": [
    {
     "name": "stdout",
     "output_type": "stream",
     "text": [
      "Forward:\n",
      "1\n",
      "3\n",
      "4\n",
      "6\n",
      "7\n",
      "8\n",
      "9\n",
      "10\n",
      "13\n",
      "14\n",
      "Backward\n",
      "14\n",
      "13\n",
      "10\n",
      "9\n",
      "8\n",
      "7\n",
      "6\n",
      "4\n",
      "3\n",
      "1\n"
     ]
    }
   ],
   "source": [
    "printDLL(head)"
   ]
  },
  {
   "cell_type": "code",
   "execution_count": 39,
   "metadata": {},
   "outputs": [
    {
     "name": "stdout",
     "output_type": "stream",
     "text": [
      "0 1 2 3 4\n"
     ]
    }
   ],
   "source": [
    "s = ''\n",
    "for i in range(5):\n",
    "    s+=str(i) + ' '\n",
    "s = s.strip()\n",
    "print(s)"
   ]
  },
  {
   "cell_type": "code",
   "execution_count": null,
   "metadata": {},
   "outputs": [],
   "source": []
  }
 ],
 "metadata": {
  "kernelspec": {
   "display_name": "Python 3",
   "language": "python",
   "name": "python3"
  },
  "language_info": {
   "codemirror_mode": {
    "name": "ipython",
    "version": 3
   },
   "file_extension": ".py",
   "mimetype": "text/x-python",
   "name": "python",
   "nbconvert_exporter": "python",
   "pygments_lexer": "ipython3",
   "version": "3.7.5"
  }
 },
 "nbformat": 4,
 "nbformat_minor": 2
}
