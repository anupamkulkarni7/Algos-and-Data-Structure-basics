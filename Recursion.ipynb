{
 "cells": [
  {
   "cell_type": "code",
   "execution_count": 1,
   "metadata": {},
   "outputs": [],
   "source": [
    "def powersets(arr):\n",
    "    \"\"\"\n",
    "    Return all subsets of set arr.\n",
    "    \"\"\"\n",
    "    def util(arr,i,sub,sets):\n",
    "        if i<len(arr):\n",
    "            e = arr[i]\n",
    "            subw = sub[:]\n",
    "            subw.append(e)\n",
    "            util(arr,i+1,sub,sets)\n",
    "            util(arr,i+1,subw,sets)\n",
    "        else:\n",
    "            sets.append(sub)\n",
    "    \n",
    "    sets = []\n",
    "    sub = []\n",
    "    util(arr,0,sub,sets)\n",
    "    return sets"
   ]
  },
  {
   "cell_type": "code",
   "execution_count": 2,
   "metadata": {},
   "outputs": [],
   "source": [
    "a=[0,1,2]\n",
    "sets = powersets(a)"
   ]
  },
  {
   "cell_type": "code",
   "execution_count": 3,
   "metadata": {},
   "outputs": [],
   "source": [
    "def hanoi(stack1, stack2):\n",
    "    if len(stack1) is 0:\n",
    "        return \n",
    "    \n",
    "    def util(orig,target,aux,indx):\n",
    "        if indx == 1:\n",
    "            target.append(orig.pop())\n",
    "        else:\n",
    "            util(orig,aux,target,indx-1)\n",
    "            target.append(orig.pop())\n",
    "            util(aux,target,orig,indx-1)\n",
    "    \n",
    "    aux = []\n",
    "    util(stack1,stack2,aux,len(stack1))\n",
    "    "
   ]
  },
  {
   "cell_type": "code",
   "execution_count": 4,
   "metadata": {},
   "outputs": [
    {
     "name": "stdout",
     "output_type": "stream",
     "text": [
      "[4, 3, 2, 1]\n"
     ]
    }
   ],
   "source": [
    "s1 = [4,3,2,1]\n",
    "s2 = []\n",
    "hanoi(s1,s2)\n",
    "print(s2)"
   ]
  },
  {
   "cell_type": "code",
   "execution_count": 5,
   "metadata": {},
   "outputs": [],
   "source": [
    "def permutes(s):\n",
    "    \"\"\"\n",
    "    Return set of all possible permutations of string s, with distinct characters.\n",
    "    \"\"\"\n",
    "    ls = list(s)\n",
    "    fset = set()\n",
    "    \n",
    "    def util(scur,perm,fset):\n",
    "        if len(scur) is 0:\n",
    "            if tuple(perm) not in fset:\n",
    "                fset.add(tuple(perm))\n",
    "        else:\n",
    "            for i in range(len(scur)):\n",
    "                newperm = perm[:]\n",
    "                newperm.append(scur[i])\n",
    "                newscur = scur[:]\n",
    "                _ = newscur.pop(i)\n",
    "                util(newscur, newperm, fset)\n",
    "    \n",
    "    util(ls,[],fset)\n",
    "    return fset"
   ]
  },
  {
   "cell_type": "code",
   "execution_count": 6,
   "metadata": {},
   "outputs": [
    {
     "name": "stdout",
     "output_type": "stream",
     "text": [
      "{('c', 'a', 'b', 'b'), ('c', 'b', 'a', 'b'), ('a', 'b', 'b', 'c'), ('b', 'a', 'b', 'c'), ('b', 'b', 'a', 'c'), ('c', 'b', 'b', 'a'), ('b', 'c', 'b', 'a'), ('b', 'b', 'c', 'a'), ('a', 'b', 'c', 'b'), ('a', 'c', 'b', 'b'), ('b', 'a', 'c', 'b'), ('b', 'c', 'a', 'b')}\n"
     ]
    }
   ],
   "source": [
    "aset = permutes('abcb')\n",
    "print(aset)"
   ]
  },
  {
   "cell_type": "code",
   "execution_count": 7,
   "metadata": {},
   "outputs": [],
   "source": [
    "a = [[0,0,1],[0,1,0],[0,0,0]]"
   ]
  },
  {
   "cell_type": "code",
   "execution_count": 8,
   "metadata": {},
   "outputs": [],
   "source": [
    "def minsum(arr,li,ri):\n",
    "    \"\"\"\n",
    "    Given an array\n",
    "    \"\"\"\n",
    "    \n",
    "    if li == ri:\n",
    "        return 0\n",
    "    \n",
    "    sums=[0]*(ri-li)\n",
    "    indx = 0\n",
    "    for i in range(li,ri):\n",
    "        sums[indx] = minsum(arr,li,i) + minsum(arr,i+1,ri) + sum(arr[li:i+1]) + sum(arr[i+1:ri+1])\n",
    "        indx +=1\n",
    "    #print(min(sums),li,ri)\n",
    "    return min(sums)"
   ]
  },
  {
   "cell_type": "code",
   "execution_count": 9,
   "metadata": {},
   "outputs": [],
   "source": [
    "import sys\n",
    "def minsum_rec(arr):\n",
    "    \n",
    "    def util(arr,li,ri):\n",
    "        if li>=ri:\n",
    "            return 0\n",
    "        mincost = sys.maxsize\n",
    "        for k in range(li,ri):\n",
    "            cost = util(arr,li,k)+util(arr,k+1,ri)+sum(arr[li:k+1])+sum(arr[k+1:ri+1])\n",
    "            mincost = min(mincost,cost)\n",
    "        return mincost\n",
    "    \n",
    "    return util(arr,0,len(arr)-1)"
   ]
  },
  {
   "cell_type": "code",
   "execution_count": 10,
   "metadata": {},
   "outputs": [
    {
     "data": {
      "text/plain": [
       "19"
      ]
     },
     "execution_count": 10,
     "metadata": {},
     "output_type": "execute_result"
    }
   ],
   "source": [
    "a= [3,2,1,4]\n",
    "minsum_rec(a)"
   ]
  },
  {
   "cell_type": "code",
   "execution_count": 11,
   "metadata": {},
   "outputs": [],
   "source": [
    "def minmults_rec(dims):\n",
    "    if len(dims)<3:\n",
    "        return 0\n",
    "    def util(dims,li,ri):\n",
    "        if li>=ri:\n",
    "            return 0\n",
    "        mincost = sys.maxsize\n",
    "        for k in range(li,ri):\n",
    "            cost = util(dims,li,k) + util(dims,k+1,ri)+ dims[li-1]*dims[k]*dims[ri]\n",
    "            mincost = min(mincost,cost)\n",
    "        \n",
    "        return mincost\n",
    "    \n",
    "    return util(dims,1,len(dims)-1)\n"
   ]
  },
  {
   "cell_type": "code",
   "execution_count": 12,
   "metadata": {},
   "outputs": [
    {
     "data": {
      "text/plain": [
       "54"
      ]
     },
     "execution_count": 12,
     "metadata": {},
     "output_type": "execute_result"
    }
   ],
   "source": [
    "minmults_rec([3,4,2,5])"
   ]
  },
  {
   "cell_type": "code",
   "execution_count": 13,
   "metadata": {},
   "outputs": [],
   "source": [
    "import sys\n",
    "def minmults_memo(dims):\n",
    "    \n",
    "    def util(d,M,i,j):\n",
    "        if i>=j:\n",
    "            M[i][j] = 0\n",
    "            return 0\n",
    "\n",
    "        mcost = sys.maxsize\n",
    "        mink = i\n",
    "        for k in range(i,j):\n",
    "            \n",
    "            if M[i][k] is not None:\n",
    "                c1 = M[i][k]\n",
    "            else:\n",
    "                c1 = util(d,M,i,k)\n",
    "                \n",
    "            if M[k+1][j] is not None:\n",
    "                c2 = M[k+1][j]\n",
    "            else:\n",
    "                c2 = util(d,M,k+1,j)\n",
    "                \n",
    "            cost = c1 + c2 + d[i-1]*d[k]*d[j]\n",
    "            if cost<mcost:\n",
    "                mcost = cost\n",
    "                mink=k\n",
    "                \n",
    "        M[i][j] = mcost\n",
    "        return mcost\n",
    "    \n",
    "    M = [[None for j in range(len(dims))] for i in range(len(dims))]\n",
    "    \n",
    "    ans =  util(dims,M,1,len(dims)-1)\n",
    "    #print(M)\n",
    "    return ans"
   ]
  },
  {
   "cell_type": "code",
   "execution_count": 14,
   "metadata": {},
   "outputs": [
    {
     "data": {
      "text/plain": [
       "26000"
      ]
     },
     "execution_count": 14,
     "metadata": {},
     "output_type": "execute_result"
    }
   ],
   "source": [
    "minmults_memo([40, 20, 30, 10, 30])"
   ]
  },
  {
   "cell_type": "code",
   "execution_count": 15,
   "metadata": {},
   "outputs": [],
   "source": [
    "def minmults_dyn(dims):\n",
    "    cost=[[0 for j in range(len(dims))] for i in range(len(dims))]\n",
    "    for j in range(2,len(dims)):\n",
    "        for i in range(j-1,0,-1):\n",
    "            mincost = sys.maxsize\n",
    "            for k in range(i,j):\n",
    "                c = cost[i][k] + cost[k+1][j] + dims[i-1]*dims[k]*dims[j]\n",
    "                mincost = min(c,mincost)\n",
    "            cost[i][j] = mincost\n",
    "    \n",
    "    return cost[1][len(dims)-1]"
   ]
  },
  {
   "cell_type": "code",
   "execution_count": 16,
   "metadata": {},
   "outputs": [
    {
     "data": {
      "text/plain": [
       "26000"
      ]
     },
     "execution_count": 16,
     "metadata": {},
     "output_type": "execute_result"
    }
   ],
   "source": [
    "minmults_dyn([40, 20, 30, 10, 30])"
   ]
  },
  {
   "cell_type": "code",
   "execution_count": 17,
   "metadata": {},
   "outputs": [],
   "source": [
    "def LCS(s1,s2):\n",
    "    \n",
    "    def util(s1,i1,s2,i2):\n",
    "        if i1<0 or i2<0:\n",
    "            return ''\n",
    "        \n",
    "        if s1[i1] == s2[i2]:\n",
    "            return util(s1,i1-1,s2,i2-1) + s1[i1]\n",
    "        else:\n",
    "            seq1 = util(s1,i1-1,s2,i2)\n",
    "            seq2 = util(s1,i1,s2,i2-1)\n",
    "            if len(seq1) >= len(seq2):\n",
    "                return seq1\n",
    "            else:\n",
    "                return seq2\n",
    "    \n",
    "    return util(s1,len(s1)-1,s2,len(s2)-1)"
   ]
  },
  {
   "cell_type": "code",
   "execution_count": 18,
   "metadata": {},
   "outputs": [
    {
     "name": "stdout",
     "output_type": "stream",
     "text": [
      "nsaf\n"
     ]
    }
   ],
   "source": [
    "s1 = 'gnksafh'\n",
    "s2 = 'nsabfl'\n",
    "print(LCS(s1,s2))"
   ]
  },
  {
   "cell_type": "code",
   "execution_count": 19,
   "metadata": {},
   "outputs": [],
   "source": [
    "def LCSdyn(s1,s2):\n",
    "    if len(s1) is 0 or len(s2) is 0:\n",
    "        return ''\n",
    "\n",
    "    LCSlen = [[0 for j in range(len(s2)+1)] for i in range(len(s1)+1)]\n",
    "    LCSseq = [[[0,0] for j in range(len(s2)+1)] for i in range(len(s1)+1)]\n",
    "    \n",
    "    for i in range(1,len(s1)+1):\n",
    "        for j in range(1,len(s2)+1):\n",
    "            if s1[i-1] == s2[j-1]:\n",
    "                LCSlen[i][j] = LCSlen[i-1][j-1] + 1\n",
    "                LCSseq[i][j] = [-1,-1]\n",
    "            else:\n",
    "                if LCSlen[i-1][j] <= LCSlen[i][j-1]:\n",
    "                    LCSlen[i][j] = LCSlen[i][j-1]\n",
    "                    LCSseq[i][j] = [0,-1]\n",
    "                else:\n",
    "                    LCSlen[i][j] = LCSlen[i-1][j]\n",
    "                    LCSseq[i][j] = [-1,0]\n",
    "    \n",
    "    i,j = len(s1), len(s2)\n",
    "    maxlen = LCSlen[i][j]\n",
    "    subseq = ''\n",
    "    while i>0 and j>0:\n",
    "        if LCSseq[i][j] == [-1,-1]:\n",
    "            subseq = s1[i-1] + subseq\n",
    "        i,j = i+LCSseq[i][j][0], j+LCSseq[i][j][1]\n",
    "\n",
    "    return maxlen, subseq\n"
   ]
  },
  {
   "cell_type": "code",
   "execution_count": 20,
   "metadata": {},
   "outputs": [
    {
     "data": {
      "text/plain": [
       "(4, 'nsaf')"
      ]
     },
     "execution_count": 20,
     "metadata": {},
     "output_type": "execute_result"
    }
   ],
   "source": [
    "LCSdyn(s1,s2)"
   ]
  },
  {
   "cell_type": "code",
   "execution_count": 21,
   "metadata": {},
   "outputs": [],
   "source": [
    "def LIS_rec(arr):\n",
    "    def util(arr,indx):\n",
    "        if indx is 0:\n",
    "            return 1\n",
    "        \n",
    "        maxlen = 1\n",
    "        for i in range(indx):\n",
    "            c = util(arr,i)\n",
    "            if arr[indx]>arr[i] and c+1>maxlen:\n",
    "                maxlen = c+1\n",
    "        util.max = max(util.max,maxlen)\n",
    "        return maxlen\n",
    "    \n",
    "    util.max = 1\n",
    "    _ = util(arr,len(arr)-1)\n",
    "    return util.max"
   ]
  },
  {
   "cell_type": "code",
   "execution_count": null,
   "metadata": {},
   "outputs": [],
   "source": []
  },
  {
   "cell_type": "code",
   "execution_count": 22,
   "metadata": {},
   "outputs": [
    {
     "name": "stdout",
     "output_type": "stream",
     "text": [
      "3\n"
     ]
    }
   ],
   "source": [
    "a = [5,10,2,3,4]\n",
    "print(LIS_rec(a))"
   ]
  },
  {
   "cell_type": "code",
   "execution_count": 23,
   "metadata": {},
   "outputs": [],
   "source": [
    "def LIS_sum(arr):\n",
    "    \n",
    "    def util(arr,indx):\n",
    "        if indx is 0:\n",
    "            return arr[0]\n",
    "        \n",
    "        maxsum = arr[indx]\n",
    "        for i in range(indx):\n",
    "            c = util(arr,i)\n",
    "            if arr[indx]>arr[i] and c+arr[indx]>maxsum:\n",
    "                maxsum = c+arr[indx]\n",
    "        util.maxs = max(util.maxs,maxsum)\n",
    "        return maxsum\n",
    "    \n",
    "    util.maxs = 0\n",
    "    _ = util(arr,len(arr)-1)\n",
    "    return util.maxs"
   ]
  },
  {
   "cell_type": "code",
   "execution_count": 24,
   "metadata": {},
   "outputs": [],
   "source": [
    "arr = [1,2,101,3,100,5,1]"
   ]
  },
  {
   "cell_type": "code",
   "execution_count": 25,
   "metadata": {},
   "outputs": [
    {
     "data": {
      "text/plain": [
       "106"
      ]
     },
     "execution_count": 25,
     "metadata": {},
     "output_type": "execute_result"
    }
   ],
   "source": [
    "LIS_sum(arr)"
   ]
  },
  {
   "cell_type": "code",
   "execution_count": 26,
   "metadata": {},
   "outputs": [],
   "source": [
    "def min_dist(src, tgt):\n",
    "\n",
    "    def util(s1,i1,s2,i2):\n",
    "        if i1<0:\n",
    "            return i2+1\n",
    "        if i2<0:\n",
    "            return i1+1\n",
    "        \n",
    "        if s1[i1] == s2[i2]:\n",
    "            return util(s1,i1-1,s2,i2-1)\n",
    "        else:\n",
    "            return 1 + min(\n",
    "                        util(s1,i1-1,s2,i2-1), #replace\n",
    "                        util(s1,i1-1,s2,i2), #remove\n",
    "                        util(s1,i1,s2,i2-1) #insert \n",
    "                        )\n",
    "    \n",
    "    return util(src,len(src)-1,tgt,len(tgt)-1)"
   ]
  },
  {
   "cell_type": "code",
   "execution_count": 27,
   "metadata": {},
   "outputs": [
    {
     "name": "stdout",
     "output_type": "stream",
     "text": [
      "3\n"
     ]
    }
   ],
   "source": [
    "s1 = 'geek'\n",
    "s2 = 'g'\n",
    "print(min_dist(s1,s2))"
   ]
  },
  {
   "cell_type": "code",
   "execution_count": 28,
   "metadata": {},
   "outputs": [],
   "source": [
    "import sys\n",
    "\n",
    "def mincost_path(mat,i,j):\n",
    "\n",
    "    def util(mat,memo,path,i,j):\n",
    "        if i is 0 and j is 0:\n",
    "            memo[0][0] = mat[0][0]\n",
    "            return mat[0][0]\n",
    "        if i<0 or j<0:\n",
    "            return sys.maxsize\n",
    "\n",
    "        if memo[i][j] is not None:\n",
    "            return memo[i][j]\n",
    "        else:\n",
    "            c1 = util(mat,memo,path,i-1,j)\n",
    "            c2 = util(mat,memo,path,i-1,j-1)\n",
    "            c3 = util(mat,memo,path,i,j-1)\n",
    "            cmin = min(c1,c2,c3)\n",
    "\n",
    "            if c1 is cmin:\n",
    "                path[i][j] = [i-1,j]\n",
    "            elif c2 is cmin:\n",
    "                path[i][j] = [i-1,j-1]\n",
    "            else:\n",
    "                path[i][j] = [i,j-1]\n",
    "            cmin += mat[i][j]\n",
    "            memo[i][j] = cmin\n",
    "            return cmin\n",
    "\n",
    "    memo = [[None for j in mat[0]] for i in mat]\n",
    "    path = [[[0,0] for j in mat[0]] for i in mat]\n",
    "    \n",
    "    return util(mat,memo,path,i,j)"
   ]
  },
  {
   "cell_type": "code",
   "execution_count": 29,
   "metadata": {},
   "outputs": [
    {
     "name": "stdout",
     "output_type": "stream",
     "text": [
      "3\n"
     ]
    }
   ],
   "source": [
    "mat = [[1,2,3],[4,8,2],[1,5,3]]\n",
    "print(mincost_path(mat,0,1))"
   ]
  },
  {
   "cell_type": "code",
   "execution_count": 30,
   "metadata": {},
   "outputs": [],
   "source": [
    "def mincost_path_dyn(mat,m,n):\n",
    "    \n",
    "    cost = [[0 for j in mat[0]] for i in mat]\n",
    "    cost[0][0] = mat[0][0]\n",
    "    for j in range(1,len(mat[0])):\n",
    "        cost[0][j] = cost[0][j-1]+ mat[0][j]\n",
    "    for i in range(1,len(mat)):\n",
    "        cost[i][0] = cost[i-1][0] + mat[i][0]\n",
    "\n",
    "    for i in range(1,len(mat)):\n",
    "        for j in range(1, len(mat[0])):\n",
    "            cost[i][j] = mat[i][j] + min(cost[i-1][j-1],cost[i][j-1],cost[i-1][j])\n",
    "            if i is m and j is n:\n",
    "                break\n",
    "    \n",
    "    return cost[m][n]"
   ]
  },
  {
   "cell_type": "code",
   "execution_count": 31,
   "metadata": {},
   "outputs": [
    {
     "name": "stdout",
     "output_type": "stream",
     "text": [
      "3\n"
     ]
    }
   ],
   "source": [
    "print(mincost_path_dyn(mat,0,1))"
   ]
  },
  {
   "cell_type": "code",
   "execution_count": 32,
   "metadata": {},
   "outputs": [],
   "source": [
    "def coin_change(val,den):\n",
    "    \n",
    "    def util1(val,den,m):\n",
    "        if val == 0:\n",
    "            return 1\n",
    "        if val < 0:\n",
    "            return 0\n",
    "        if m < 0:\n",
    "            return 0\n",
    "        return util1(val,den,m-1) + util1(val-den[m],den,m)\n",
    "        \n",
    "    return util1(val,den,len(den)-1)"
   ]
  },
  {
   "cell_type": "code",
   "execution_count": 33,
   "metadata": {},
   "outputs": [
    {
     "data": {
      "text/plain": [
       "4"
      ]
     },
     "execution_count": 33,
     "metadata": {},
     "output_type": "execute_result"
    }
   ],
   "source": [
    "coin_change(4,[2,3,1])"
   ]
  },
  {
   "cell_type": "code",
   "execution_count": 34,
   "metadata": {},
   "outputs": [],
   "source": [
    "def knapsack01(val,wts,W):\n",
    "    \n",
    "    def util(val,wts,W,i):\n",
    "        if i==len(wts) or W<=0:\n",
    "            return 0\n",
    "        \n",
    "        if W>=wts[i]:\n",
    "            cvw = val[i] + util(val,wts,W-wts[i],i+1)\n",
    "        else:\n",
    "            cvw = 0\n",
    "        cvwo = util(val,wts,W,i+1)\n",
    "        return max(cvw,cvwo)\n",
    "\n",
    "    return util(val,wts,W,0)"
   ]
  },
  {
   "cell_type": "code",
   "execution_count": 35,
   "metadata": {},
   "outputs": [
    {
     "name": "stdout",
     "output_type": "stream",
     "text": [
      "220\n"
     ]
    }
   ],
   "source": [
    "val=[60,100,120]\n",
    "wts=[10,20,30]\n",
    "print(knapsack01(val,wts,50))"
   ]
  },
  {
   "cell_type": "code",
   "execution_count": 36,
   "metadata": {},
   "outputs": [],
   "source": [
    "def egg_drop(neggs,nf):\n",
    "    \n",
    "    def util(li,ri,ne):\n",
    "        if ne is 1:\n",
    "            return ri-li+1\n",
    "        if li > ri:\n",
    "                return 0\n",
    "            \n",
    "        mincost = sys.maxsize\n",
    "        for k in range(li,ri+1):\n",
    "            br = util(li,k-1,ne-1)\n",
    "            nbr = util(k+1,ri,ne)\n",
    "            mincost = min(mincost,max(br,nbr))\n",
    "\n",
    "        return 1+ mincost\n",
    "\n",
    "    return util(1,nf,neggs)"
   ]
  },
  {
   "cell_type": "code",
   "execution_count": 37,
   "metadata": {},
   "outputs": [
    {
     "data": {
      "text/plain": [
       "4"
      ]
     },
     "execution_count": 37,
     "metadata": {},
     "output_type": "execute_result"
    }
   ],
   "source": [
    "egg_drop(2,10)"
   ]
  },
  {
   "cell_type": "code",
   "execution_count": 1,
   "metadata": {},
   "outputs": [],
   "source": [
    "def LPS_seq(s):\n",
    "    def util(s,li,ri):\n",
    "        if li>ri:\n",
    "            return ''\n",
    "        if li == ri:\n",
    "            return s[li]\n",
    "        \n",
    "        if s[li] == s[ri]:\n",
    "            return s[li]+util(s,li+1,ri-1)+s[ri]\n",
    "        else:\n",
    "            c1 = util(s,li+1,ri)\n",
    "            c2 = util(s,li,ri-1)\n",
    "            if len(c1)>= len(c2):\n",
    "                return c1\n",
    "            else:\n",
    "                return c2\n",
    "\n",
    "    return util(s,0,len(s)-1)"
   ]
  },
  {
   "cell_type": "code",
   "execution_count": 4,
   "metadata": {},
   "outputs": [
    {
     "data": {
      "text/plain": [
       "'geeg'"
      ]
     },
     "execution_count": 4,
     "metadata": {},
     "output_type": "execute_result"
    }
   ],
   "source": [
    "LPS_seq('geeksg')"
   ]
  },
  {
   "cell_type": "code",
   "execution_count": 40,
   "metadata": {},
   "outputs": [],
   "source": [
    "def LPS_dyn(s):\n",
    "    if len(s) is 0:\n",
    "        return ''\n",
    "    \n",
    "    lps = [['' for j in range(len(s))] for i in range(len(s))]\n",
    "    for i in range(len(s)):\n",
    "        lps[i][i] = s[i]\n",
    "    for j in range(1,len(s)):\n",
    "        for i in range(j-1,-1,-1):\n",
    "            if s[i] == s[j]:\n",
    "                lps[i][j] = s[i]+lps[i+1][j-1]+s[j]\n",
    "            else:\n",
    "                if len(lps[i+1][j]) >= len(lps[i][j-1]):\n",
    "                    lps[i][j] = lps[i+1][j]\n",
    "                else:\n",
    "                    lps[i][j] = lps[i][j-1]\n",
    "                    \n",
    "    return lps[0][len(s)-1]"
   ]
  },
  {
   "cell_type": "code",
   "execution_count": 41,
   "metadata": {},
   "outputs": [
    {
     "data": {
      "text/plain": [
       "'g'"
      ]
     },
     "execution_count": 41,
     "metadata": {},
     "output_type": "execute_result"
    }
   ],
   "source": [
    "LPS_dyn('g')"
   ]
  },
  {
   "cell_type": "code",
   "execution_count": 42,
   "metadata": {},
   "outputs": [],
   "source": [
    "def rod_cut(lrod,vals):\n",
    "    def util(l,val):\n",
    "        if l is 1:\n",
    "            return val[0]\n",
    "        maxval = val[l-1]\n",
    "        for i in range(1,l//2):\n",
    "            cval = util(i,val) + util(l-i,val)\n",
    "            maxval = max(maxval,cval)\n",
    "        return maxval\n",
    "\n",
    "    return util(lrod,vals)\n"
   ]
  },
  {
   "cell_type": "code",
   "execution_count": 43,
   "metadata": {},
   "outputs": [
    {
     "name": "stdout",
     "output_type": "stream",
     "text": [
      "22\n"
     ]
    }
   ],
   "source": [
    "vals = [1,5,8,9,10,17,17,20]\n",
    "print(rod_cut(len(vals),vals))"
   ]
  },
  {
   "cell_type": "code",
   "execution_count": 44,
   "metadata": {},
   "outputs": [],
   "source": [
    "def rod_cut_dyn(lrod,vals):\n",
    "    maxval = [0]*len(vals)\n",
    "    maxval[0] = vals[0]\n",
    "    for l in range(2,lrod+1):\n",
    "        mval = vals[l-1]\n",
    "        for i in range(1,l//2):\n",
    "            mval = max(mval,maxval[i-1]+maxval[l-i-1])\n",
    "        maxval[l-1] = mval\n",
    "        \n",
    "    return maxval[-1]"
   ]
  },
  {
   "cell_type": "code",
   "execution_count": 45,
   "metadata": {},
   "outputs": [
    {
     "data": {
      "text/plain": [
       "22"
      ]
     },
     "execution_count": 45,
     "metadata": {},
     "output_type": "execute_result"
    }
   ],
   "source": [
    "rod_cut_dyn(len(vals),vals)"
   ]
  },
  {
   "cell_type": "code",
   "execution_count": 46,
   "metadata": {},
   "outputs": [
    {
     "data": {
      "text/plain": [
       "[1, 5, 8, 9, 10, 17, 17, 20]"
      ]
     },
     "execution_count": 46,
     "metadata": {},
     "output_type": "execute_result"
    }
   ],
   "source": [
    "vals"
   ]
  },
  {
   "cell_type": "code",
   "execution_count": 47,
   "metadata": {},
   "outputs": [],
   "source": [
    "def bitonic(arr):\n",
    "    def lis(arr,memo,indx):\n",
    "        if indx is 0:\n",
    "            memo[0] = 1\n",
    "            return 1\n",
    "        maxlen = 1\n",
    "        for i in range(indx):\n",
    "            if memo[i] is not None:\n",
    "                c = memo[i]\n",
    "            else:\n",
    "                c = lis(arr,memo,i)\n",
    "            if arr[indx]>arr[i] and c+1>maxlen:\n",
    "                maxlen = c+1\n",
    "\n",
    "        memo[indx] = maxlen\n",
    "        return maxlen\n",
    "    \n",
    "    refinc = [None]*len(arr)\n",
    "    refdec = [None]*len(arr)\n",
    "\n",
    "    _ = lis(arr,refinc,len(arr)-1)\n",
    "    _ = lis(arr[::-1],refdec,len(arr)-1)\n",
    "    ans = 0\n",
    "    \n",
    "    for i1,i2 in zip(refinc,refdec[::-1]):\n",
    "        ans = max(i1+i2-1,ans)\n",
    "\n",
    "    return ans"
   ]
  },
  {
   "cell_type": "code",
   "execution_count": 48,
   "metadata": {},
   "outputs": [
    {
     "name": "stdout",
     "output_type": "stream",
     "text": [
      "5\n"
     ]
    }
   ],
   "source": [
    "arr=[12, 11, 40, 5, 3, 1]\n",
    "print(bitonic(arr))"
   ]
  },
  {
   "cell_type": "code",
   "execution_count": 52,
   "metadata": {},
   "outputs": [],
   "source": [
    "def partition(arr):\n",
    "    asum = sum(arr)\n",
    "    if asum%2 is 1:\n",
    "        return False\n",
    "    target = int(asum/2)\n",
    "\n",
    "    def util(arr,n,target):\n",
    "        if target is 0:\n",
    "            return True\n",
    "        if n<0:\n",
    "            return False\n",
    "        c1 = util(arr,n-1,target)\n",
    "        c2 = util(arr,n-1,target-arr[n])\n",
    "        return c1 or c2\n",
    "\n",
    "    return util(arr,len(arr)-1,target)"
   ]
  },
  {
   "cell_type": "code",
   "execution_count": 53,
   "metadata": {},
   "outputs": [
    {
     "data": {
      "text/plain": [
       "False"
      ]
     },
     "execution_count": 53,
     "metadata": {},
     "output_type": "execute_result"
    }
   ],
   "source": [
    "partition([1, 3, 11, 5])"
   ]
  },
  {
   "cell_type": "code",
   "execution_count": 66,
   "metadata": {},
   "outputs": [],
   "source": [
    "def line_break(txt,width):\n",
    "    txtl = txt.split()\n",
    "    \n",
    "    def util(txtl,indx,width):\n",
    "        if len(' '.join(txtl[indx:]))<=width:\n",
    "            return 0\n",
    "\n",
    "        currlen = len(txtl[indx])\n",
    "        mincost = sys.maxsize\n",
    "        ctr = 1\n",
    "        sindx = indx\n",
    "        while currlen <= width:\n",
    "            cost = (width - currlen)**3 + util(txtl,indx+ctr,width)\n",
    "            currlen += len(txtl[indx+ctr]) +1\n",
    "            ctr +=1\n",
    "            mincost = min(mincost,cost)\n",
    "            if mincost is cost:\n",
    "                sindx = indx+ctr\n",
    "        \n",
    "        return mincost\n",
    "    \n",
    "    return util(txtl,0,width)"
   ]
  },
  {
   "cell_type": "code",
   "execution_count": 67,
   "metadata": {},
   "outputs": [
    {
     "name": "stdout",
     "output_type": "stream",
     "text": [
      "28\n"
     ]
    }
   ],
   "source": [
    "txt = 'aaa bb cc ddddd'\n",
    "print(line_break(txt,6))"
   ]
  },
  {
   "cell_type": "code",
   "execution_count": 5,
   "metadata": {},
   "outputs": [],
   "source": [
    "import sys\n",
    "def pal_partition(txt):\n",
    "    \n",
    "    def is_pal(txt,i,j):\n",
    "        if i == j:\n",
    "            return True\n",
    "        while i<j:\n",
    "            if txt[i] != txt[j]:\n",
    "                return False\n",
    "            i+=1\n",
    "            j-=1\n",
    "        return True\n",
    "    \n",
    "    def util(txt,i,j):\n",
    "        if i==j:\n",
    "            return 0\n",
    "        if is_pal(txt,i,j) is True:\n",
    "            return 0\n",
    "        mincuts = sys.maxsize\n",
    "        for k in range(i,j):\n",
    "            cuts = util(txt,i,k) + util(txt,k+1,j) + 1\n",
    "            mincuts = min(mincuts,cuts)\n",
    "        return mincuts\n",
    "    \n",
    "    return util(txt,0,len(txt)-1)\n",
    "    "
   ]
  },
  {
   "cell_type": "code",
   "execution_count": 11,
   "metadata": {},
   "outputs": [],
   "source": [
    "def pal_pdyn(txt):\n",
    "    def is_pal(txt,i,j):\n",
    "        if i == j:\n",
    "            return True\n",
    "        while i<j:\n",
    "            if txt[i] != txt[j]:\n",
    "                return False\n",
    "            i+=1\n",
    "            j-=1\n",
    "        return True\n",
    "    \n",
    "    cuts = [[0 for j in range(len(txt))] for i in range(len(txt))]\n",
    "    for j in range(1,len(txt)):\n",
    "        for i in range(j-1,-1,-1):\n",
    "            if is_pal(txt,i,j) is True:\n",
    "                cuts[i][j] = 0\n",
    "            else:\n",
    "                mincuts = sys.maxsize\n",
    "                for k in range(i,j):\n",
    "                    mincuts = min(mincuts,cuts[i][k]+cuts[k+1][j]+1)\n",
    "                cuts[i][j] = mincuts\n",
    "    \n",
    "    return cuts[0][len(txt)-1]"
   ]
  },
  {
   "cell_type": "code",
   "execution_count": 15,
   "metadata": {},
   "outputs": [
    {
     "name": "stdout",
     "output_type": "stream",
     "text": [
      "264 ms ± 11.4 ms per loop (mean ± std. dev. of 7 runs, 1 loop each)\n",
      "252 µs ± 12.8 µs per loop (mean ± std. dev. of 7 runs, 1000 loops each)\n"
     ]
    }
   ],
   "source": [
    "s='ababbbabbababa'\n",
    "%timeit pal_partition(s)\n",
    "%timeit pal_pdyn(s)"
   ]
  },
  {
   "cell_type": "code",
   "execution_count": 16,
   "metadata": {},
   "outputs": [
    {
     "name": "stdout",
     "output_type": "stream",
     "text": [
      "3\n",
      "3\n"
     ]
    }
   ],
   "source": [
    "print(pal_partition(s))\n",
    "print(pal_pdyn(s))"
   ]
  },
  {
   "cell_type": "code",
   "execution_count": null,
   "metadata": {},
   "outputs": [],
   "source": [
    "def allpos_pals(txt):\n",
    "    def is_pal(txt,i,j):\n",
    "        if i == j:\n",
    "            return True\n",
    "        while i<j:\n",
    "            if txt[i] != txt[j]:\n",
    "                return False\n",
    "            i+=1\n",
    "            j-=1\n",
    "        return True"
   ]
  }
 ],
 "metadata": {
  "kernelspec": {
   "display_name": "Python 3",
   "language": "python",
   "name": "python3"
  },
  "language_info": {
   "codemirror_mode": {
    "name": "ipython",
    "version": 3
   },
   "file_extension": ".py",
   "mimetype": "text/x-python",
   "name": "python",
   "nbconvert_exporter": "python",
   "pygments_lexer": "ipython3",
   "version": "3.7.5"
  }
 },
 "nbformat": 4,
 "nbformat_minor": 2
}
